{
  "nbformat": 4,
  "nbformat_minor": 0,
  "metadata": {
    "colab": {
      "provenance": [],
      "gpuType": "T4"
    },
    "kernelspec": {
      "name": "python3",
      "display_name": "Python 3"
    },
    "language_info": {
      "name": "python"
    },
    "accelerator": "GPU"
  },
  "cells": [
    {
      "cell_type": "code",
      "execution_count": null,
      "metadata": {
        "id": "eK-vL0vnMhza"
      },
      "outputs": [],
      "source": [
        "import numpy as np\n",
        "import pandas as pd\n",
        "import matplotlib.pyplot as plt\n",
        "import yfinance as yf\n",
        "from sklearn.preprocessing import MinMaxScaler\n",
        "from tensorflow.keras.models import Sequential\n",
        "from tensorflow.keras.layers import LSTM, Dense, Dropout\n",
        "from tensorflow.keras.callbacks import EarlyStopping\n",
        "from sklearn.metrics import mean_squared_error, mean_absolute_error\n",
        "from datetime import datetime, timedelta\n",
        "from math import sqrt"
      ]
    },
    {
      "cell_type": "code",
      "source": [
        "import yfinance\n",
        "ticker = \"ASII.JK\"\n",
        "start_date = \"2010-01-01\"\n",
        "end_date = \"2024-05-22\"\n",
        "# end_date = datetime.now().strftime('%Y-%m-%d')\n",
        "data = yf.download(ticker, start=start_date, end=end_date)"
      ],
      "metadata": {
        "colab": {
          "base_uri": "https://localhost:8080/"
        },
        "id": "EWXJlI4eMlbh",
        "outputId": "de815682-6f15-4995-f36e-c33c6a5cf789"
      },
      "execution_count": null,
      "outputs": [
        {
          "output_type": "stream",
          "name": "stderr",
          "text": [
            "\r[*********************100%%**********************]  1 of 1 completed\n"
          ]
        }
      ]
    },
    {
      "cell_type": "code",
      "source": [
        "data.head()"
      ],
      "metadata": {
        "colab": {
          "base_uri": "https://localhost:8080/",
          "height": 257
        },
        "id": "Y4f7Me7zMmR4",
        "outputId": "33253cc1-f767-4444-bd7a-d1d6ab8b9ef6"
      },
      "execution_count": null,
      "outputs": [
        {
          "output_type": "execute_result",
          "data": {
            "text/plain": [
              "              Open    High     Low   Close    Adj Close  Volume\n",
              "Date                                                           \n",
              "2010-01-04  3530.0  3550.0  3465.0  3530.0  2001.564819      40\n",
              "2010-01-05  3550.0  3570.0  3485.0  3550.0  2012.905029      40\n",
              "2010-01-06  3530.0  3580.0  3515.0  3530.0  2001.564819      40\n",
              "2010-01-07  3420.0  3560.0  3415.0  3420.0  1939.193481      40\n",
              "2010-01-08  3440.0  3450.0  3380.0  3440.0  1950.533325      40"
            ],
            "text/html": [
              "\n",
              "  <div id=\"df-8c180e6f-b29e-4dfc-8dfc-41a631a97cf9\" class=\"colab-df-container\">\n",
              "    <div>\n",
              "<style scoped>\n",
              "    .dataframe tbody tr th:only-of-type {\n",
              "        vertical-align: middle;\n",
              "    }\n",
              "\n",
              "    .dataframe tbody tr th {\n",
              "        vertical-align: top;\n",
              "    }\n",
              "\n",
              "    .dataframe thead th {\n",
              "        text-align: right;\n",
              "    }\n",
              "</style>\n",
              "<table border=\"1\" class=\"dataframe\">\n",
              "  <thead>\n",
              "    <tr style=\"text-align: right;\">\n",
              "      <th></th>\n",
              "      <th>Open</th>\n",
              "      <th>High</th>\n",
              "      <th>Low</th>\n",
              "      <th>Close</th>\n",
              "      <th>Adj Close</th>\n",
              "      <th>Volume</th>\n",
              "    </tr>\n",
              "    <tr>\n",
              "      <th>Date</th>\n",
              "      <th></th>\n",
              "      <th></th>\n",
              "      <th></th>\n",
              "      <th></th>\n",
              "      <th></th>\n",
              "      <th></th>\n",
              "    </tr>\n",
              "  </thead>\n",
              "  <tbody>\n",
              "    <tr>\n",
              "      <th>2010-01-04</th>\n",
              "      <td>3530.0</td>\n",
              "      <td>3550.0</td>\n",
              "      <td>3465.0</td>\n",
              "      <td>3530.0</td>\n",
              "      <td>2001.564819</td>\n",
              "      <td>40</td>\n",
              "    </tr>\n",
              "    <tr>\n",
              "      <th>2010-01-05</th>\n",
              "      <td>3550.0</td>\n",
              "      <td>3570.0</td>\n",
              "      <td>3485.0</td>\n",
              "      <td>3550.0</td>\n",
              "      <td>2012.905029</td>\n",
              "      <td>40</td>\n",
              "    </tr>\n",
              "    <tr>\n",
              "      <th>2010-01-06</th>\n",
              "      <td>3530.0</td>\n",
              "      <td>3580.0</td>\n",
              "      <td>3515.0</td>\n",
              "      <td>3530.0</td>\n",
              "      <td>2001.564819</td>\n",
              "      <td>40</td>\n",
              "    </tr>\n",
              "    <tr>\n",
              "      <th>2010-01-07</th>\n",
              "      <td>3420.0</td>\n",
              "      <td>3560.0</td>\n",
              "      <td>3415.0</td>\n",
              "      <td>3420.0</td>\n",
              "      <td>1939.193481</td>\n",
              "      <td>40</td>\n",
              "    </tr>\n",
              "    <tr>\n",
              "      <th>2010-01-08</th>\n",
              "      <td>3440.0</td>\n",
              "      <td>3450.0</td>\n",
              "      <td>3380.0</td>\n",
              "      <td>3440.0</td>\n",
              "      <td>1950.533325</td>\n",
              "      <td>40</td>\n",
              "    </tr>\n",
              "  </tbody>\n",
              "</table>\n",
              "</div>\n",
              "    <div class=\"colab-df-buttons\">\n",
              "\n",
              "  <div class=\"colab-df-container\">\n",
              "    <button class=\"colab-df-convert\" onclick=\"convertToInteractive('df-8c180e6f-b29e-4dfc-8dfc-41a631a97cf9')\"\n",
              "            title=\"Convert this dataframe to an interactive table.\"\n",
              "            style=\"display:none;\">\n",
              "\n",
              "  <svg xmlns=\"http://www.w3.org/2000/svg\" height=\"24px\" viewBox=\"0 -960 960 960\">\n",
              "    <path d=\"M120-120v-720h720v720H120Zm60-500h600v-160H180v160Zm220 220h160v-160H400v160Zm0 220h160v-160H400v160ZM180-400h160v-160H180v160Zm440 0h160v-160H620v160ZM180-180h160v-160H180v160Zm440 0h160v-160H620v160Z\"/>\n",
              "  </svg>\n",
              "    </button>\n",
              "\n",
              "  <style>\n",
              "    .colab-df-container {\n",
              "      display:flex;\n",
              "      gap: 12px;\n",
              "    }\n",
              "\n",
              "    .colab-df-convert {\n",
              "      background-color: #E8F0FE;\n",
              "      border: none;\n",
              "      border-radius: 50%;\n",
              "      cursor: pointer;\n",
              "      display: none;\n",
              "      fill: #1967D2;\n",
              "      height: 32px;\n",
              "      padding: 0 0 0 0;\n",
              "      width: 32px;\n",
              "    }\n",
              "\n",
              "    .colab-df-convert:hover {\n",
              "      background-color: #E2EBFA;\n",
              "      box-shadow: 0px 1px 2px rgba(60, 64, 67, 0.3), 0px 1px 3px 1px rgba(60, 64, 67, 0.15);\n",
              "      fill: #174EA6;\n",
              "    }\n",
              "\n",
              "    .colab-df-buttons div {\n",
              "      margin-bottom: 4px;\n",
              "    }\n",
              "\n",
              "    [theme=dark] .colab-df-convert {\n",
              "      background-color: #3B4455;\n",
              "      fill: #D2E3FC;\n",
              "    }\n",
              "\n",
              "    [theme=dark] .colab-df-convert:hover {\n",
              "      background-color: #434B5C;\n",
              "      box-shadow: 0px 1px 3px 1px rgba(0, 0, 0, 0.15);\n",
              "      filter: drop-shadow(0px 1px 2px rgba(0, 0, 0, 0.3));\n",
              "      fill: #FFFFFF;\n",
              "    }\n",
              "  </style>\n",
              "\n",
              "    <script>\n",
              "      const buttonEl =\n",
              "        document.querySelector('#df-8c180e6f-b29e-4dfc-8dfc-41a631a97cf9 button.colab-df-convert');\n",
              "      buttonEl.style.display =\n",
              "        google.colab.kernel.accessAllowed ? 'block' : 'none';\n",
              "\n",
              "      async function convertToInteractive(key) {\n",
              "        const element = document.querySelector('#df-8c180e6f-b29e-4dfc-8dfc-41a631a97cf9');\n",
              "        const dataTable =\n",
              "          await google.colab.kernel.invokeFunction('convertToInteractive',\n",
              "                                                    [key], {});\n",
              "        if (!dataTable) return;\n",
              "\n",
              "        const docLinkHtml = 'Like what you see? Visit the ' +\n",
              "          '<a target=\"_blank\" href=https://colab.research.google.com/notebooks/data_table.ipynb>data table notebook</a>'\n",
              "          + ' to learn more about interactive tables.';\n",
              "        element.innerHTML = '';\n",
              "        dataTable['output_type'] = 'display_data';\n",
              "        await google.colab.output.renderOutput(dataTable, element);\n",
              "        const docLink = document.createElement('div');\n",
              "        docLink.innerHTML = docLinkHtml;\n",
              "        element.appendChild(docLink);\n",
              "      }\n",
              "    </script>\n",
              "  </div>\n",
              "\n",
              "\n",
              "<div id=\"df-b4bcd3c5-0ba8-40c3-b1fb-4ccfc618f2d9\">\n",
              "  <button class=\"colab-df-quickchart\" onclick=\"quickchart('df-b4bcd3c5-0ba8-40c3-b1fb-4ccfc618f2d9')\"\n",
              "            title=\"Suggest charts\"\n",
              "            style=\"display:none;\">\n",
              "\n",
              "<svg xmlns=\"http://www.w3.org/2000/svg\" height=\"24px\"viewBox=\"0 0 24 24\"\n",
              "     width=\"24px\">\n",
              "    <g>\n",
              "        <path d=\"M19 3H5c-1.1 0-2 .9-2 2v14c0 1.1.9 2 2 2h14c1.1 0 2-.9 2-2V5c0-1.1-.9-2-2-2zM9 17H7v-7h2v7zm4 0h-2V7h2v10zm4 0h-2v-4h2v4z\"/>\n",
              "    </g>\n",
              "</svg>\n",
              "  </button>\n",
              "\n",
              "<style>\n",
              "  .colab-df-quickchart {\n",
              "      --bg-color: #E8F0FE;\n",
              "      --fill-color: #1967D2;\n",
              "      --hover-bg-color: #E2EBFA;\n",
              "      --hover-fill-color: #174EA6;\n",
              "      --disabled-fill-color: #AAA;\n",
              "      --disabled-bg-color: #DDD;\n",
              "  }\n",
              "\n",
              "  [theme=dark] .colab-df-quickchart {\n",
              "      --bg-color: #3B4455;\n",
              "      --fill-color: #D2E3FC;\n",
              "      --hover-bg-color: #434B5C;\n",
              "      --hover-fill-color: #FFFFFF;\n",
              "      --disabled-bg-color: #3B4455;\n",
              "      --disabled-fill-color: #666;\n",
              "  }\n",
              "\n",
              "  .colab-df-quickchart {\n",
              "    background-color: var(--bg-color);\n",
              "    border: none;\n",
              "    border-radius: 50%;\n",
              "    cursor: pointer;\n",
              "    display: none;\n",
              "    fill: var(--fill-color);\n",
              "    height: 32px;\n",
              "    padding: 0;\n",
              "    width: 32px;\n",
              "  }\n",
              "\n",
              "  .colab-df-quickchart:hover {\n",
              "    background-color: var(--hover-bg-color);\n",
              "    box-shadow: 0 1px 2px rgba(60, 64, 67, 0.3), 0 1px 3px 1px rgba(60, 64, 67, 0.15);\n",
              "    fill: var(--button-hover-fill-color);\n",
              "  }\n",
              "\n",
              "  .colab-df-quickchart-complete:disabled,\n",
              "  .colab-df-quickchart-complete:disabled:hover {\n",
              "    background-color: var(--disabled-bg-color);\n",
              "    fill: var(--disabled-fill-color);\n",
              "    box-shadow: none;\n",
              "  }\n",
              "\n",
              "  .colab-df-spinner {\n",
              "    border: 2px solid var(--fill-color);\n",
              "    border-color: transparent;\n",
              "    border-bottom-color: var(--fill-color);\n",
              "    animation:\n",
              "      spin 1s steps(1) infinite;\n",
              "  }\n",
              "\n",
              "  @keyframes spin {\n",
              "    0% {\n",
              "      border-color: transparent;\n",
              "      border-bottom-color: var(--fill-color);\n",
              "      border-left-color: var(--fill-color);\n",
              "    }\n",
              "    20% {\n",
              "      border-color: transparent;\n",
              "      border-left-color: var(--fill-color);\n",
              "      border-top-color: var(--fill-color);\n",
              "    }\n",
              "    30% {\n",
              "      border-color: transparent;\n",
              "      border-left-color: var(--fill-color);\n",
              "      border-top-color: var(--fill-color);\n",
              "      border-right-color: var(--fill-color);\n",
              "    }\n",
              "    40% {\n",
              "      border-color: transparent;\n",
              "      border-right-color: var(--fill-color);\n",
              "      border-top-color: var(--fill-color);\n",
              "    }\n",
              "    60% {\n",
              "      border-color: transparent;\n",
              "      border-right-color: var(--fill-color);\n",
              "    }\n",
              "    80% {\n",
              "      border-color: transparent;\n",
              "      border-right-color: var(--fill-color);\n",
              "      border-bottom-color: var(--fill-color);\n",
              "    }\n",
              "    90% {\n",
              "      border-color: transparent;\n",
              "      border-bottom-color: var(--fill-color);\n",
              "    }\n",
              "  }\n",
              "</style>\n",
              "\n",
              "  <script>\n",
              "    async function quickchart(key) {\n",
              "      const quickchartButtonEl =\n",
              "        document.querySelector('#' + key + ' button');\n",
              "      quickchartButtonEl.disabled = true;  // To prevent multiple clicks.\n",
              "      quickchartButtonEl.classList.add('colab-df-spinner');\n",
              "      try {\n",
              "        const charts = await google.colab.kernel.invokeFunction(\n",
              "            'suggestCharts', [key], {});\n",
              "      } catch (error) {\n",
              "        console.error('Error during call to suggestCharts:', error);\n",
              "      }\n",
              "      quickchartButtonEl.classList.remove('colab-df-spinner');\n",
              "      quickchartButtonEl.classList.add('colab-df-quickchart-complete');\n",
              "    }\n",
              "    (() => {\n",
              "      let quickchartButtonEl =\n",
              "        document.querySelector('#df-b4bcd3c5-0ba8-40c3-b1fb-4ccfc618f2d9 button');\n",
              "      quickchartButtonEl.style.display =\n",
              "        google.colab.kernel.accessAllowed ? 'block' : 'none';\n",
              "    })();\n",
              "  </script>\n",
              "</div>\n",
              "\n",
              "    </div>\n",
              "  </div>\n"
            ],
            "application/vnd.google.colaboratory.intrinsic+json": {
              "type": "dataframe",
              "variable_name": "data",
              "summary": "{\n  \"name\": \"data\",\n  \"rows\": 3549,\n  \"fields\": [\n    {\n      \"column\": \"Date\",\n      \"properties\": {\n        \"dtype\": \"date\",\n        \"min\": \"2010-01-04 00:00:00\",\n        \"max\": \"2024-05-21 00:00:00\",\n        \"num_unique_values\": 3549,\n        \"samples\": [\n          \"2011-03-22 00:00:00\",\n          \"2020-03-30 00:00:00\",\n          \"2022-06-14 00:00:00\"\n        ],\n        \"semantic_type\": \"\",\n        \"description\": \"\"\n      }\n    },\n    {\n      \"column\": \"Open\",\n      \"properties\": {\n        \"dtype\": \"number\",\n        \"std\": 1159.194883394635,\n        \"min\": 3220.0,\n        \"max\": 9250.0,\n        \"num_unique_values\": 520,\n        \"samples\": [\n          5870.0,\n          4625.0,\n          3510.0\n        ],\n        \"semantic_type\": \"\",\n        \"description\": \"\"\n      }\n    },\n    {\n      \"column\": \"High\",\n      \"properties\": {\n        \"dtype\": \"number\",\n        \"std\": 1162.13714650334,\n        \"min\": 3365.0,\n        \"max\": 9350.0,\n        \"num_unique_values\": 531,\n        \"samples\": [\n          5100.0,\n          3540.0,\n          7160.0\n        ],\n        \"semantic_type\": \"\",\n        \"description\": \"\"\n      }\n    },\n    {\n      \"column\": \"Low\",\n      \"properties\": {\n        \"dtype\": \"number\",\n        \"std\": 1155.4187907441253,\n        \"min\": 3220.0,\n        \"max\": 8975.0,\n        \"num_unique_values\": 525,\n        \"samples\": [\n          6550.0,\n          6560.0,\n          3480.0\n        ],\n        \"semantic_type\": \"\",\n        \"description\": \"\"\n      }\n    },\n    {\n      \"column\": \"Close\",\n      \"properties\": {\n        \"dtype\": \"number\",\n        \"std\": 1159.9746821047272,\n        \"min\": 3280.0,\n        \"max\": 9150.0,\n        \"num_unique_values\": 518,\n        \"samples\": [\n          5205.0,\n          6000.0,\n          3510.0\n        ],\n        \"semantic_type\": \"\",\n        \"description\": \"\"\n      }\n    },\n    {\n      \"column\": \"Adj Close\",\n      \"properties\": {\n        \"dtype\": \"number\",\n        \"std\": 904.4592272567048,\n        \"min\": 1893.831787109375,\n        \"max\": 6416.82470703125,\n        \"num_unique_values\": 1595,\n        \"samples\": [\n          6276.56640625,\n          4702.58837890625,\n          4190.13671875\n        ],\n        \"semantic_type\": \"\",\n        \"description\": \"\"\n      }\n    },\n    {\n      \"column\": \"Volume\",\n      \"properties\": {\n        \"dtype\": \"number\",\n        \"std\": 26415022,\n        \"min\": 0,\n        \"max\": 311402400,\n        \"num_unique_values\": 3368,\n        \"samples\": [\n          18421300,\n          36950300,\n          22883900\n        ],\n        \"semantic_type\": \"\",\n        \"description\": \"\"\n      }\n    }\n  ]\n}"
            }
          },
          "metadata": {},
          "execution_count": 3
        }
      ]
    },
    {
      "cell_type": "code",
      "source": [
        "data.tail()"
      ],
      "metadata": {
        "colab": {
          "base_uri": "https://localhost:8080/",
          "height": 257
        },
        "id": "oGSRZoi-Mn34",
        "outputId": "330e67e4-b25a-433a-de1c-1100e57d0b52"
      },
      "execution_count": null,
      "outputs": [
        {
          "output_type": "execute_result",
          "data": {
            "text/plain": [
              "              Open    High     Low   Close  Adj Close     Volume\n",
              "Date                                                            \n",
              "2024-05-15  4570.0  4620.0  4530.0  4530.0     4530.0  109962400\n",
              "2024-05-16  4590.0  4720.0  4540.0  4710.0     4710.0  149039700\n",
              "2024-05-17  4710.0  4810.0  4690.0  4800.0     4800.0  101492400\n",
              "2024-05-20  4800.0  4830.0  4730.0  4740.0     4740.0   58021800\n",
              "2024-05-21  4750.0  4770.0  4700.0  4700.0     4700.0   57558000"
            ],
            "text/html": [
              "\n",
              "  <div id=\"df-b4e1e4a5-eaaf-463e-8999-7e80f833f4c8\" class=\"colab-df-container\">\n",
              "    <div>\n",
              "<style scoped>\n",
              "    .dataframe tbody tr th:only-of-type {\n",
              "        vertical-align: middle;\n",
              "    }\n",
              "\n",
              "    .dataframe tbody tr th {\n",
              "        vertical-align: top;\n",
              "    }\n",
              "\n",
              "    .dataframe thead th {\n",
              "        text-align: right;\n",
              "    }\n",
              "</style>\n",
              "<table border=\"1\" class=\"dataframe\">\n",
              "  <thead>\n",
              "    <tr style=\"text-align: right;\">\n",
              "      <th></th>\n",
              "      <th>Open</th>\n",
              "      <th>High</th>\n",
              "      <th>Low</th>\n",
              "      <th>Close</th>\n",
              "      <th>Adj Close</th>\n",
              "      <th>Volume</th>\n",
              "    </tr>\n",
              "    <tr>\n",
              "      <th>Date</th>\n",
              "      <th></th>\n",
              "      <th></th>\n",
              "      <th></th>\n",
              "      <th></th>\n",
              "      <th></th>\n",
              "      <th></th>\n",
              "    </tr>\n",
              "  </thead>\n",
              "  <tbody>\n",
              "    <tr>\n",
              "      <th>2024-05-15</th>\n",
              "      <td>4570.0</td>\n",
              "      <td>4620.0</td>\n",
              "      <td>4530.0</td>\n",
              "      <td>4530.0</td>\n",
              "      <td>4530.0</td>\n",
              "      <td>109962400</td>\n",
              "    </tr>\n",
              "    <tr>\n",
              "      <th>2024-05-16</th>\n",
              "      <td>4590.0</td>\n",
              "      <td>4720.0</td>\n",
              "      <td>4540.0</td>\n",
              "      <td>4710.0</td>\n",
              "      <td>4710.0</td>\n",
              "      <td>149039700</td>\n",
              "    </tr>\n",
              "    <tr>\n",
              "      <th>2024-05-17</th>\n",
              "      <td>4710.0</td>\n",
              "      <td>4810.0</td>\n",
              "      <td>4690.0</td>\n",
              "      <td>4800.0</td>\n",
              "      <td>4800.0</td>\n",
              "      <td>101492400</td>\n",
              "    </tr>\n",
              "    <tr>\n",
              "      <th>2024-05-20</th>\n",
              "      <td>4800.0</td>\n",
              "      <td>4830.0</td>\n",
              "      <td>4730.0</td>\n",
              "      <td>4740.0</td>\n",
              "      <td>4740.0</td>\n",
              "      <td>58021800</td>\n",
              "    </tr>\n",
              "    <tr>\n",
              "      <th>2024-05-21</th>\n",
              "      <td>4750.0</td>\n",
              "      <td>4770.0</td>\n",
              "      <td>4700.0</td>\n",
              "      <td>4700.0</td>\n",
              "      <td>4700.0</td>\n",
              "      <td>57558000</td>\n",
              "    </tr>\n",
              "  </tbody>\n",
              "</table>\n",
              "</div>\n",
              "    <div class=\"colab-df-buttons\">\n",
              "\n",
              "  <div class=\"colab-df-container\">\n",
              "    <button class=\"colab-df-convert\" onclick=\"convertToInteractive('df-b4e1e4a5-eaaf-463e-8999-7e80f833f4c8')\"\n",
              "            title=\"Convert this dataframe to an interactive table.\"\n",
              "            style=\"display:none;\">\n",
              "\n",
              "  <svg xmlns=\"http://www.w3.org/2000/svg\" height=\"24px\" viewBox=\"0 -960 960 960\">\n",
              "    <path d=\"M120-120v-720h720v720H120Zm60-500h600v-160H180v160Zm220 220h160v-160H400v160Zm0 220h160v-160H400v160ZM180-400h160v-160H180v160Zm440 0h160v-160H620v160ZM180-180h160v-160H180v160Zm440 0h160v-160H620v160Z\"/>\n",
              "  </svg>\n",
              "    </button>\n",
              "\n",
              "  <style>\n",
              "    .colab-df-container {\n",
              "      display:flex;\n",
              "      gap: 12px;\n",
              "    }\n",
              "\n",
              "    .colab-df-convert {\n",
              "      background-color: #E8F0FE;\n",
              "      border: none;\n",
              "      border-radius: 50%;\n",
              "      cursor: pointer;\n",
              "      display: none;\n",
              "      fill: #1967D2;\n",
              "      height: 32px;\n",
              "      padding: 0 0 0 0;\n",
              "      width: 32px;\n",
              "    }\n",
              "\n",
              "    .colab-df-convert:hover {\n",
              "      background-color: #E2EBFA;\n",
              "      box-shadow: 0px 1px 2px rgba(60, 64, 67, 0.3), 0px 1px 3px 1px rgba(60, 64, 67, 0.15);\n",
              "      fill: #174EA6;\n",
              "    }\n",
              "\n",
              "    .colab-df-buttons div {\n",
              "      margin-bottom: 4px;\n",
              "    }\n",
              "\n",
              "    [theme=dark] .colab-df-convert {\n",
              "      background-color: #3B4455;\n",
              "      fill: #D2E3FC;\n",
              "    }\n",
              "\n",
              "    [theme=dark] .colab-df-convert:hover {\n",
              "      background-color: #434B5C;\n",
              "      box-shadow: 0px 1px 3px 1px rgba(0, 0, 0, 0.15);\n",
              "      filter: drop-shadow(0px 1px 2px rgba(0, 0, 0, 0.3));\n",
              "      fill: #FFFFFF;\n",
              "    }\n",
              "  </style>\n",
              "\n",
              "    <script>\n",
              "      const buttonEl =\n",
              "        document.querySelector('#df-b4e1e4a5-eaaf-463e-8999-7e80f833f4c8 button.colab-df-convert');\n",
              "      buttonEl.style.display =\n",
              "        google.colab.kernel.accessAllowed ? 'block' : 'none';\n",
              "\n",
              "      async function convertToInteractive(key) {\n",
              "        const element = document.querySelector('#df-b4e1e4a5-eaaf-463e-8999-7e80f833f4c8');\n",
              "        const dataTable =\n",
              "          await google.colab.kernel.invokeFunction('convertToInteractive',\n",
              "                                                    [key], {});\n",
              "        if (!dataTable) return;\n",
              "\n",
              "        const docLinkHtml = 'Like what you see? Visit the ' +\n",
              "          '<a target=\"_blank\" href=https://colab.research.google.com/notebooks/data_table.ipynb>data table notebook</a>'\n",
              "          + ' to learn more about interactive tables.';\n",
              "        element.innerHTML = '';\n",
              "        dataTable['output_type'] = 'display_data';\n",
              "        await google.colab.output.renderOutput(dataTable, element);\n",
              "        const docLink = document.createElement('div');\n",
              "        docLink.innerHTML = docLinkHtml;\n",
              "        element.appendChild(docLink);\n",
              "      }\n",
              "    </script>\n",
              "  </div>\n",
              "\n",
              "\n",
              "<div id=\"df-fe01a43c-2093-4641-8135-ba4b56ffea34\">\n",
              "  <button class=\"colab-df-quickchart\" onclick=\"quickchart('df-fe01a43c-2093-4641-8135-ba4b56ffea34')\"\n",
              "            title=\"Suggest charts\"\n",
              "            style=\"display:none;\">\n",
              "\n",
              "<svg xmlns=\"http://www.w3.org/2000/svg\" height=\"24px\"viewBox=\"0 0 24 24\"\n",
              "     width=\"24px\">\n",
              "    <g>\n",
              "        <path d=\"M19 3H5c-1.1 0-2 .9-2 2v14c0 1.1.9 2 2 2h14c1.1 0 2-.9 2-2V5c0-1.1-.9-2-2-2zM9 17H7v-7h2v7zm4 0h-2V7h2v10zm4 0h-2v-4h2v4z\"/>\n",
              "    </g>\n",
              "</svg>\n",
              "  </button>\n",
              "\n",
              "<style>\n",
              "  .colab-df-quickchart {\n",
              "      --bg-color: #E8F0FE;\n",
              "      --fill-color: #1967D2;\n",
              "      --hover-bg-color: #E2EBFA;\n",
              "      --hover-fill-color: #174EA6;\n",
              "      --disabled-fill-color: #AAA;\n",
              "      --disabled-bg-color: #DDD;\n",
              "  }\n",
              "\n",
              "  [theme=dark] .colab-df-quickchart {\n",
              "      --bg-color: #3B4455;\n",
              "      --fill-color: #D2E3FC;\n",
              "      --hover-bg-color: #434B5C;\n",
              "      --hover-fill-color: #FFFFFF;\n",
              "      --disabled-bg-color: #3B4455;\n",
              "      --disabled-fill-color: #666;\n",
              "  }\n",
              "\n",
              "  .colab-df-quickchart {\n",
              "    background-color: var(--bg-color);\n",
              "    border: none;\n",
              "    border-radius: 50%;\n",
              "    cursor: pointer;\n",
              "    display: none;\n",
              "    fill: var(--fill-color);\n",
              "    height: 32px;\n",
              "    padding: 0;\n",
              "    width: 32px;\n",
              "  }\n",
              "\n",
              "  .colab-df-quickchart:hover {\n",
              "    background-color: var(--hover-bg-color);\n",
              "    box-shadow: 0 1px 2px rgba(60, 64, 67, 0.3), 0 1px 3px 1px rgba(60, 64, 67, 0.15);\n",
              "    fill: var(--button-hover-fill-color);\n",
              "  }\n",
              "\n",
              "  .colab-df-quickchart-complete:disabled,\n",
              "  .colab-df-quickchart-complete:disabled:hover {\n",
              "    background-color: var(--disabled-bg-color);\n",
              "    fill: var(--disabled-fill-color);\n",
              "    box-shadow: none;\n",
              "  }\n",
              "\n",
              "  .colab-df-spinner {\n",
              "    border: 2px solid var(--fill-color);\n",
              "    border-color: transparent;\n",
              "    border-bottom-color: var(--fill-color);\n",
              "    animation:\n",
              "      spin 1s steps(1) infinite;\n",
              "  }\n",
              "\n",
              "  @keyframes spin {\n",
              "    0% {\n",
              "      border-color: transparent;\n",
              "      border-bottom-color: var(--fill-color);\n",
              "      border-left-color: var(--fill-color);\n",
              "    }\n",
              "    20% {\n",
              "      border-color: transparent;\n",
              "      border-left-color: var(--fill-color);\n",
              "      border-top-color: var(--fill-color);\n",
              "    }\n",
              "    30% {\n",
              "      border-color: transparent;\n",
              "      border-left-color: var(--fill-color);\n",
              "      border-top-color: var(--fill-color);\n",
              "      border-right-color: var(--fill-color);\n",
              "    }\n",
              "    40% {\n",
              "      border-color: transparent;\n",
              "      border-right-color: var(--fill-color);\n",
              "      border-top-color: var(--fill-color);\n",
              "    }\n",
              "    60% {\n",
              "      border-color: transparent;\n",
              "      border-right-color: var(--fill-color);\n",
              "    }\n",
              "    80% {\n",
              "      border-color: transparent;\n",
              "      border-right-color: var(--fill-color);\n",
              "      border-bottom-color: var(--fill-color);\n",
              "    }\n",
              "    90% {\n",
              "      border-color: transparent;\n",
              "      border-bottom-color: var(--fill-color);\n",
              "    }\n",
              "  }\n",
              "</style>\n",
              "\n",
              "  <script>\n",
              "    async function quickchart(key) {\n",
              "      const quickchartButtonEl =\n",
              "        document.querySelector('#' + key + ' button');\n",
              "      quickchartButtonEl.disabled = true;  // To prevent multiple clicks.\n",
              "      quickchartButtonEl.classList.add('colab-df-spinner');\n",
              "      try {\n",
              "        const charts = await google.colab.kernel.invokeFunction(\n",
              "            'suggestCharts', [key], {});\n",
              "      } catch (error) {\n",
              "        console.error('Error during call to suggestCharts:', error);\n",
              "      }\n",
              "      quickchartButtonEl.classList.remove('colab-df-spinner');\n",
              "      quickchartButtonEl.classList.add('colab-df-quickchart-complete');\n",
              "    }\n",
              "    (() => {\n",
              "      let quickchartButtonEl =\n",
              "        document.querySelector('#df-fe01a43c-2093-4641-8135-ba4b56ffea34 button');\n",
              "      quickchartButtonEl.style.display =\n",
              "        google.colab.kernel.accessAllowed ? 'block' : 'none';\n",
              "    })();\n",
              "  </script>\n",
              "</div>\n",
              "\n",
              "    </div>\n",
              "  </div>\n"
            ],
            "application/vnd.google.colaboratory.intrinsic+json": {
              "type": "dataframe",
              "summary": "{\n  \"name\": \"data\",\n  \"rows\": 5,\n  \"fields\": [\n    {\n      \"column\": \"Date\",\n      \"properties\": {\n        \"dtype\": \"date\",\n        \"min\": \"2024-05-15 00:00:00\",\n        \"max\": \"2024-05-21 00:00:00\",\n        \"num_unique_values\": 5,\n        \"samples\": [\n          \"2024-05-16 00:00:00\",\n          \"2024-05-21 00:00:00\",\n          \"2024-05-17 00:00:00\"\n        ],\n        \"semantic_type\": \"\",\n        \"description\": \"\"\n      }\n    },\n    {\n      \"column\": \"Open\",\n      \"properties\": {\n        \"dtype\": \"number\",\n        \"std\": 100.39920318408906,\n        \"min\": 4570.0,\n        \"max\": 4800.0,\n        \"num_unique_values\": 5,\n        \"samples\": [\n          4590.0,\n          4750.0,\n          4710.0\n        ],\n        \"semantic_type\": \"\",\n        \"description\": \"\"\n      }\n    },\n    {\n      \"column\": \"High\",\n      \"properties\": {\n        \"dtype\": \"number\",\n        \"std\": 83.96427811873333,\n        \"min\": 4620.0,\n        \"max\": 4830.0,\n        \"num_unique_values\": 5,\n        \"samples\": [\n          4720.0,\n          4770.0,\n          4810.0\n        ],\n        \"semantic_type\": \"\",\n        \"description\": \"\"\n      }\n    },\n    {\n      \"column\": \"Low\",\n      \"properties\": {\n        \"dtype\": \"number\",\n        \"std\": 95.23654760647301,\n        \"min\": 4530.0,\n        \"max\": 4730.0,\n        \"num_unique_values\": 5,\n        \"samples\": [\n          4540.0,\n          4700.0,\n          4690.0\n        ],\n        \"semantic_type\": \"\",\n        \"description\": \"\"\n      }\n    },\n    {\n      \"column\": \"Close\",\n      \"properties\": {\n        \"dtype\": \"number\",\n        \"std\": 100.64790112068906,\n        \"min\": 4530.0,\n        \"max\": 4800.0,\n        \"num_unique_values\": 5,\n        \"samples\": [\n          4710.0,\n          4700.0,\n          4800.0\n        ],\n        \"semantic_type\": \"\",\n        \"description\": \"\"\n      }\n    },\n    {\n      \"column\": \"Adj Close\",\n      \"properties\": {\n        \"dtype\": \"number\",\n        \"std\": 100.64790112068906,\n        \"min\": 4530.0,\n        \"max\": 4800.0,\n        \"num_unique_values\": 5,\n        \"samples\": [\n          4710.0,\n          4700.0,\n          4800.0\n        ],\n        \"semantic_type\": \"\",\n        \"description\": \"\"\n      }\n    },\n    {\n      \"column\": \"Volume\",\n      \"properties\": {\n        \"dtype\": \"number\",\n        \"std\": 38585533,\n        \"min\": 57558000,\n        \"max\": 149039700,\n        \"num_unique_values\": 5,\n        \"samples\": [\n          149039700,\n          57558000,\n          101492400\n        ],\n        \"semantic_type\": \"\",\n        \"description\": \"\"\n      }\n    }\n  ]\n}"
            }
          },
          "metadata": {},
          "execution_count": 4
        }
      ]
    },
    {
      "cell_type": "code",
      "source": [
        "data.isna().sum()"
      ],
      "metadata": {
        "colab": {
          "base_uri": "https://localhost:8080/"
        },
        "id": "7bKsKquJMn6R",
        "outputId": "32a9865e-5263-4013-f416-c8432f2d0919"
      },
      "execution_count": null,
      "outputs": [
        {
          "output_type": "execute_result",
          "data": {
            "text/plain": [
              "Open         0\n",
              "High         0\n",
              "Low          0\n",
              "Close        0\n",
              "Adj Close    0\n",
              "Volume       0\n",
              "dtype: int64"
            ]
          },
          "metadata": {},
          "execution_count": 5
        }
      ]
    },
    {
      "cell_type": "code",
      "source": [
        "data.describe()"
      ],
      "metadata": {
        "colab": {
          "base_uri": "https://localhost:8080/",
          "height": 320
        },
        "id": "H1FlhSLXMn8w",
        "outputId": "5925792d-f822-4d7a-9141-7e1858f6cd59"
      },
      "execution_count": null,
      "outputs": [
        {
          "output_type": "execute_result",
          "data": {
            "text/plain": [
              "              Open         High          Low        Close    Adj Close  \\\n",
              "count  3549.000000  3549.000000  3549.000000  3549.000000  3549.000000   \n",
              "mean   6611.886447  6687.533108  6528.150183  6606.948436  4637.549026   \n",
              "std    1159.194883  1162.137147  1155.418791  1159.974682   904.459227   \n",
              "min    3220.000000  3365.000000  3220.000000  3280.000000  1893.831787   \n",
              "25%    5775.000000  5850.000000  5700.000000  5760.000000  4154.338379   \n",
              "50%    6750.000000  6825.000000  6650.000000  6750.000000  4712.519531   \n",
              "75%    7450.000000  7500.000000  7350.000000  7450.000000  5280.907227   \n",
              "max    9250.000000  9350.000000  8975.000000  9150.000000  6416.824707   \n",
              "\n",
              "             Volume  \n",
              "count  3.549000e+03  \n",
              "mean   3.774913e+07  \n",
              "std    2.641502e+07  \n",
              "min    0.000000e+00  \n",
              "25%    2.241840e+07  \n",
              "50%    3.200630e+07  \n",
              "75%    4.648780e+07  \n",
              "max    3.114024e+08  "
            ],
            "text/html": [
              "\n",
              "  <div id=\"df-02f92119-b393-4ef6-9ec9-94045b95451d\" class=\"colab-df-container\">\n",
              "    <div>\n",
              "<style scoped>\n",
              "    .dataframe tbody tr th:only-of-type {\n",
              "        vertical-align: middle;\n",
              "    }\n",
              "\n",
              "    .dataframe tbody tr th {\n",
              "        vertical-align: top;\n",
              "    }\n",
              "\n",
              "    .dataframe thead th {\n",
              "        text-align: right;\n",
              "    }\n",
              "</style>\n",
              "<table border=\"1\" class=\"dataframe\">\n",
              "  <thead>\n",
              "    <tr style=\"text-align: right;\">\n",
              "      <th></th>\n",
              "      <th>Open</th>\n",
              "      <th>High</th>\n",
              "      <th>Low</th>\n",
              "      <th>Close</th>\n",
              "      <th>Adj Close</th>\n",
              "      <th>Volume</th>\n",
              "    </tr>\n",
              "  </thead>\n",
              "  <tbody>\n",
              "    <tr>\n",
              "      <th>count</th>\n",
              "      <td>3549.000000</td>\n",
              "      <td>3549.000000</td>\n",
              "      <td>3549.000000</td>\n",
              "      <td>3549.000000</td>\n",
              "      <td>3549.000000</td>\n",
              "      <td>3.549000e+03</td>\n",
              "    </tr>\n",
              "    <tr>\n",
              "      <th>mean</th>\n",
              "      <td>6611.886447</td>\n",
              "      <td>6687.533108</td>\n",
              "      <td>6528.150183</td>\n",
              "      <td>6606.948436</td>\n",
              "      <td>4637.549026</td>\n",
              "      <td>3.774913e+07</td>\n",
              "    </tr>\n",
              "    <tr>\n",
              "      <th>std</th>\n",
              "      <td>1159.194883</td>\n",
              "      <td>1162.137147</td>\n",
              "      <td>1155.418791</td>\n",
              "      <td>1159.974682</td>\n",
              "      <td>904.459227</td>\n",
              "      <td>2.641502e+07</td>\n",
              "    </tr>\n",
              "    <tr>\n",
              "      <th>min</th>\n",
              "      <td>3220.000000</td>\n",
              "      <td>3365.000000</td>\n",
              "      <td>3220.000000</td>\n",
              "      <td>3280.000000</td>\n",
              "      <td>1893.831787</td>\n",
              "      <td>0.000000e+00</td>\n",
              "    </tr>\n",
              "    <tr>\n",
              "      <th>25%</th>\n",
              "      <td>5775.000000</td>\n",
              "      <td>5850.000000</td>\n",
              "      <td>5700.000000</td>\n",
              "      <td>5760.000000</td>\n",
              "      <td>4154.338379</td>\n",
              "      <td>2.241840e+07</td>\n",
              "    </tr>\n",
              "    <tr>\n",
              "      <th>50%</th>\n",
              "      <td>6750.000000</td>\n",
              "      <td>6825.000000</td>\n",
              "      <td>6650.000000</td>\n",
              "      <td>6750.000000</td>\n",
              "      <td>4712.519531</td>\n",
              "      <td>3.200630e+07</td>\n",
              "    </tr>\n",
              "    <tr>\n",
              "      <th>75%</th>\n",
              "      <td>7450.000000</td>\n",
              "      <td>7500.000000</td>\n",
              "      <td>7350.000000</td>\n",
              "      <td>7450.000000</td>\n",
              "      <td>5280.907227</td>\n",
              "      <td>4.648780e+07</td>\n",
              "    </tr>\n",
              "    <tr>\n",
              "      <th>max</th>\n",
              "      <td>9250.000000</td>\n",
              "      <td>9350.000000</td>\n",
              "      <td>8975.000000</td>\n",
              "      <td>9150.000000</td>\n",
              "      <td>6416.824707</td>\n",
              "      <td>3.114024e+08</td>\n",
              "    </tr>\n",
              "  </tbody>\n",
              "</table>\n",
              "</div>\n",
              "    <div class=\"colab-df-buttons\">\n",
              "\n",
              "  <div class=\"colab-df-container\">\n",
              "    <button class=\"colab-df-convert\" onclick=\"convertToInteractive('df-02f92119-b393-4ef6-9ec9-94045b95451d')\"\n",
              "            title=\"Convert this dataframe to an interactive table.\"\n",
              "            style=\"display:none;\">\n",
              "\n",
              "  <svg xmlns=\"http://www.w3.org/2000/svg\" height=\"24px\" viewBox=\"0 -960 960 960\">\n",
              "    <path d=\"M120-120v-720h720v720H120Zm60-500h600v-160H180v160Zm220 220h160v-160H400v160Zm0 220h160v-160H400v160ZM180-400h160v-160H180v160Zm440 0h160v-160H620v160ZM180-180h160v-160H180v160Zm440 0h160v-160H620v160Z\"/>\n",
              "  </svg>\n",
              "    </button>\n",
              "\n",
              "  <style>\n",
              "    .colab-df-container {\n",
              "      display:flex;\n",
              "      gap: 12px;\n",
              "    }\n",
              "\n",
              "    .colab-df-convert {\n",
              "      background-color: #E8F0FE;\n",
              "      border: none;\n",
              "      border-radius: 50%;\n",
              "      cursor: pointer;\n",
              "      display: none;\n",
              "      fill: #1967D2;\n",
              "      height: 32px;\n",
              "      padding: 0 0 0 0;\n",
              "      width: 32px;\n",
              "    }\n",
              "\n",
              "    .colab-df-convert:hover {\n",
              "      background-color: #E2EBFA;\n",
              "      box-shadow: 0px 1px 2px rgba(60, 64, 67, 0.3), 0px 1px 3px 1px rgba(60, 64, 67, 0.15);\n",
              "      fill: #174EA6;\n",
              "    }\n",
              "\n",
              "    .colab-df-buttons div {\n",
              "      margin-bottom: 4px;\n",
              "    }\n",
              "\n",
              "    [theme=dark] .colab-df-convert {\n",
              "      background-color: #3B4455;\n",
              "      fill: #D2E3FC;\n",
              "    }\n",
              "\n",
              "    [theme=dark] .colab-df-convert:hover {\n",
              "      background-color: #434B5C;\n",
              "      box-shadow: 0px 1px 3px 1px rgba(0, 0, 0, 0.15);\n",
              "      filter: drop-shadow(0px 1px 2px rgba(0, 0, 0, 0.3));\n",
              "      fill: #FFFFFF;\n",
              "    }\n",
              "  </style>\n",
              "\n",
              "    <script>\n",
              "      const buttonEl =\n",
              "        document.querySelector('#df-02f92119-b393-4ef6-9ec9-94045b95451d button.colab-df-convert');\n",
              "      buttonEl.style.display =\n",
              "        google.colab.kernel.accessAllowed ? 'block' : 'none';\n",
              "\n",
              "      async function convertToInteractive(key) {\n",
              "        const element = document.querySelector('#df-02f92119-b393-4ef6-9ec9-94045b95451d');\n",
              "        const dataTable =\n",
              "          await google.colab.kernel.invokeFunction('convertToInteractive',\n",
              "                                                    [key], {});\n",
              "        if (!dataTable) return;\n",
              "\n",
              "        const docLinkHtml = 'Like what you see? Visit the ' +\n",
              "          '<a target=\"_blank\" href=https://colab.research.google.com/notebooks/data_table.ipynb>data table notebook</a>'\n",
              "          + ' to learn more about interactive tables.';\n",
              "        element.innerHTML = '';\n",
              "        dataTable['output_type'] = 'display_data';\n",
              "        await google.colab.output.renderOutput(dataTable, element);\n",
              "        const docLink = document.createElement('div');\n",
              "        docLink.innerHTML = docLinkHtml;\n",
              "        element.appendChild(docLink);\n",
              "      }\n",
              "    </script>\n",
              "  </div>\n",
              "\n",
              "\n",
              "<div id=\"df-fd41c7b2-171b-489b-83a2-ff06d169cd3e\">\n",
              "  <button class=\"colab-df-quickchart\" onclick=\"quickchart('df-fd41c7b2-171b-489b-83a2-ff06d169cd3e')\"\n",
              "            title=\"Suggest charts\"\n",
              "            style=\"display:none;\">\n",
              "\n",
              "<svg xmlns=\"http://www.w3.org/2000/svg\" height=\"24px\"viewBox=\"0 0 24 24\"\n",
              "     width=\"24px\">\n",
              "    <g>\n",
              "        <path d=\"M19 3H5c-1.1 0-2 .9-2 2v14c0 1.1.9 2 2 2h14c1.1 0 2-.9 2-2V5c0-1.1-.9-2-2-2zM9 17H7v-7h2v7zm4 0h-2V7h2v10zm4 0h-2v-4h2v4z\"/>\n",
              "    </g>\n",
              "</svg>\n",
              "  </button>\n",
              "\n",
              "<style>\n",
              "  .colab-df-quickchart {\n",
              "      --bg-color: #E8F0FE;\n",
              "      --fill-color: #1967D2;\n",
              "      --hover-bg-color: #E2EBFA;\n",
              "      --hover-fill-color: #174EA6;\n",
              "      --disabled-fill-color: #AAA;\n",
              "      --disabled-bg-color: #DDD;\n",
              "  }\n",
              "\n",
              "  [theme=dark] .colab-df-quickchart {\n",
              "      --bg-color: #3B4455;\n",
              "      --fill-color: #D2E3FC;\n",
              "      --hover-bg-color: #434B5C;\n",
              "      --hover-fill-color: #FFFFFF;\n",
              "      --disabled-bg-color: #3B4455;\n",
              "      --disabled-fill-color: #666;\n",
              "  }\n",
              "\n",
              "  .colab-df-quickchart {\n",
              "    background-color: var(--bg-color);\n",
              "    border: none;\n",
              "    border-radius: 50%;\n",
              "    cursor: pointer;\n",
              "    display: none;\n",
              "    fill: var(--fill-color);\n",
              "    height: 32px;\n",
              "    padding: 0;\n",
              "    width: 32px;\n",
              "  }\n",
              "\n",
              "  .colab-df-quickchart:hover {\n",
              "    background-color: var(--hover-bg-color);\n",
              "    box-shadow: 0 1px 2px rgba(60, 64, 67, 0.3), 0 1px 3px 1px rgba(60, 64, 67, 0.15);\n",
              "    fill: var(--button-hover-fill-color);\n",
              "  }\n",
              "\n",
              "  .colab-df-quickchart-complete:disabled,\n",
              "  .colab-df-quickchart-complete:disabled:hover {\n",
              "    background-color: var(--disabled-bg-color);\n",
              "    fill: var(--disabled-fill-color);\n",
              "    box-shadow: none;\n",
              "  }\n",
              "\n",
              "  .colab-df-spinner {\n",
              "    border: 2px solid var(--fill-color);\n",
              "    border-color: transparent;\n",
              "    border-bottom-color: var(--fill-color);\n",
              "    animation:\n",
              "      spin 1s steps(1) infinite;\n",
              "  }\n",
              "\n",
              "  @keyframes spin {\n",
              "    0% {\n",
              "      border-color: transparent;\n",
              "      border-bottom-color: var(--fill-color);\n",
              "      border-left-color: var(--fill-color);\n",
              "    }\n",
              "    20% {\n",
              "      border-color: transparent;\n",
              "      border-left-color: var(--fill-color);\n",
              "      border-top-color: var(--fill-color);\n",
              "    }\n",
              "    30% {\n",
              "      border-color: transparent;\n",
              "      border-left-color: var(--fill-color);\n",
              "      border-top-color: var(--fill-color);\n",
              "      border-right-color: var(--fill-color);\n",
              "    }\n",
              "    40% {\n",
              "      border-color: transparent;\n",
              "      border-right-color: var(--fill-color);\n",
              "      border-top-color: var(--fill-color);\n",
              "    }\n",
              "    60% {\n",
              "      border-color: transparent;\n",
              "      border-right-color: var(--fill-color);\n",
              "    }\n",
              "    80% {\n",
              "      border-color: transparent;\n",
              "      border-right-color: var(--fill-color);\n",
              "      border-bottom-color: var(--fill-color);\n",
              "    }\n",
              "    90% {\n",
              "      border-color: transparent;\n",
              "      border-bottom-color: var(--fill-color);\n",
              "    }\n",
              "  }\n",
              "</style>\n",
              "\n",
              "  <script>\n",
              "    async function quickchart(key) {\n",
              "      const quickchartButtonEl =\n",
              "        document.querySelector('#' + key + ' button');\n",
              "      quickchartButtonEl.disabled = true;  // To prevent multiple clicks.\n",
              "      quickchartButtonEl.classList.add('colab-df-spinner');\n",
              "      try {\n",
              "        const charts = await google.colab.kernel.invokeFunction(\n",
              "            'suggestCharts', [key], {});\n",
              "      } catch (error) {\n",
              "        console.error('Error during call to suggestCharts:', error);\n",
              "      }\n",
              "      quickchartButtonEl.classList.remove('colab-df-spinner');\n",
              "      quickchartButtonEl.classList.add('colab-df-quickchart-complete');\n",
              "    }\n",
              "    (() => {\n",
              "      let quickchartButtonEl =\n",
              "        document.querySelector('#df-fd41c7b2-171b-489b-83a2-ff06d169cd3e button');\n",
              "      quickchartButtonEl.style.display =\n",
              "        google.colab.kernel.accessAllowed ? 'block' : 'none';\n",
              "    })();\n",
              "  </script>\n",
              "</div>\n",
              "\n",
              "    </div>\n",
              "  </div>\n"
            ],
            "application/vnd.google.colaboratory.intrinsic+json": {
              "type": "dataframe",
              "summary": "{\n  \"name\": \"data\",\n  \"rows\": 8,\n  \"fields\": [\n    {\n      \"column\": \"Open\",\n      \"properties\": {\n        \"dtype\": \"number\",\n        \"std\": 2634.385484956441,\n        \"min\": 1159.194883394635,\n        \"max\": 9250.0,\n        \"num_unique_values\": 8,\n        \"samples\": [\n          6611.886446886447,\n          6750.0,\n          3549.0\n        ],\n        \"semantic_type\": \"\",\n        \"description\": \"\"\n      }\n    },\n    {\n      \"column\": \"High\",\n      \"properties\": {\n        \"dtype\": \"number\",\n        \"std\": 2653.357003163929,\n        \"min\": 1162.13714650334,\n        \"max\": 9350.0,\n        \"num_unique_values\": 8,\n        \"samples\": [\n          6687.533107917723,\n          6825.0,\n          3549.0\n        ],\n        \"semantic_type\": \"\",\n        \"description\": \"\"\n      }\n    },\n    {\n      \"column\": \"Low\",\n      \"properties\": {\n        \"dtype\": \"number\",\n        \"std\": 2555.1841615490266,\n        \"min\": 1155.4187907441253,\n        \"max\": 8975.0,\n        \"num_unique_values\": 8,\n        \"samples\": [\n          6528.150183150183,\n          6650.0,\n          3549.0\n        ],\n        \"semantic_type\": \"\",\n        \"description\": \"\"\n      }\n    },\n    {\n      \"column\": \"Close\",\n      \"properties\": {\n        \"dtype\": \"number\",\n        \"std\": 2606.043674910484,\n        \"min\": 1159.9746821047272,\n        \"max\": 9150.0,\n        \"num_unique_values\": 8,\n        \"samples\": [\n          6606.948436179206,\n          6750.0,\n          3549.0\n        ],\n        \"semantic_type\": \"\",\n        \"description\": \"\"\n      }\n    },\n    {\n      \"column\": \"Adj Close\",\n      \"properties\": {\n        \"dtype\": \"number\",\n        \"std\": 1797.4616906056729,\n        \"min\": 904.4592272567048,\n        \"max\": 6416.82470703125,\n        \"num_unique_values\": 8,\n        \"samples\": [\n          4637.549026416167,\n          4712.51953125,\n          3549.0\n        ],\n        \"semantic_type\": \"\",\n        \"description\": \"\"\n      }\n    },\n    {\n      \"column\": \"Volume\",\n      \"properties\": {\n        \"dtype\": \"number\",\n        \"std\": 103096937.3949194,\n        \"min\": 0.0,\n        \"max\": 311402400.0,\n        \"num_unique_values\": 8,\n        \"samples\": [\n          37749134.68695407,\n          32006300.0,\n          3549.0\n        ],\n        \"semantic_type\": \"\",\n        \"description\": \"\"\n      }\n    }\n  ]\n}"
            }
          },
          "metadata": {},
          "execution_count": 6
        }
      ]
    },
    {
      "cell_type": "code",
      "source": [
        "data.isnull().sum()"
      ],
      "metadata": {
        "colab": {
          "base_uri": "https://localhost:8080/"
        },
        "id": "J4uLcUfRMn_P",
        "outputId": "e5bc5298-7225-4e69-928a-48dd9791c9ac"
      },
      "execution_count": null,
      "outputs": [
        {
          "output_type": "execute_result",
          "data": {
            "text/plain": [
              "Open         0\n",
              "High         0\n",
              "Low          0\n",
              "Close        0\n",
              "Adj Close    0\n",
              "Volume       0\n",
              "dtype: int64"
            ]
          },
          "metadata": {},
          "execution_count": 7
        }
      ]
    },
    {
      "cell_type": "code",
      "source": [
        "print(\"Kolom Yang tersedia dalam data saham yang tersedia: \", data.columns.tolist())\n",
        "column_to_predict = input(\"Masukan kolom yang ingin di prediksi (contoh :, 'Close' tanpa tanda kutip) : \")\n",
        "\n",
        "if column_to_predict not in data.columns:\n",
        "    raise ValueError(f\"Column '{column_to_predict}' Tidak ada. Columns yang tersedia: {data.columns.tolist()}\")\n"
      ],
      "metadata": {
        "colab": {
          "base_uri": "https://localhost:8080/"
        },
        "id": "1PsTTXBDMoBw",
        "outputId": "2a3cda05-15d0-4c97-b7ba-aa296214e965"
      },
      "execution_count": null,
      "outputs": [
        {
          "name": "stdout",
          "output_type": "stream",
          "text": [
            "Kolom Yang tersedia dalam data saham yang tersedia:  ['Open', 'High', 'Low', 'Close', 'Adj Close', 'Volume']\n",
            "Masukan kolom yang ingin di prediksi (contoh :, 'Close' tanpa tanda kutip) : Close\n"
          ]
        }
      ]
    },
    {
      "cell_type": "markdown",
      "source": [],
      "metadata": {
        "id": "NGyx4X50k-lf"
      }
    },
    {
      "cell_type": "markdown",
      "source": [],
      "metadata": {
        "id": "hhtGxZIYk-aH"
      }
    },
    {
      "cell_type": "code",
      "source": [
        "plt.figure(figsize=(10, 5))\n",
        "plt.plot(data.index, data[column_to_predict], marker='', linestyle='-', color='b')\n",
        "plt.title(f'Grafik untuk kolom {column_to_predict}')\n",
        "plt.xlabel('Tanggal')\n",
        "plt.ylabel('Nilai')\n",
        "plt.grid(True)\n",
        "plt.show()"
      ],
      "metadata": {
        "colab": {
          "base_uri": "https://localhost:8080/",
          "height": 507
        },
        "id": "Xo9G8tZ0MoEI",
        "outputId": "c5ec4d55-1e89-4e8c-debb-341f93bfc49b"
      },
      "execution_count": null,
      "outputs": [
        {
          "output_type": "display_data",
          "data": {
            "text/plain": [
              "<Figure size 1000x500 with 1 Axes>"
            ],
            "image/png": "[encoded data removed]"
          },
          "metadata": {}
        }
      ]
    },
    {
      "cell_type": "code",
      "source": [
        "data_to_use = data[column_to_predict].values.reshape(-1, 1)\n",
        "\n",
        "# Scaling the data\n",
        "scaler = MinMaxScaler(feature_range=(0, 1))\n",
        "data_scaled = scaler.fit_transform(data_to_use)"
      ],
      "metadata": {
        "id": "17TpjXnGMoGi"
      },
      "execution_count": null,
      "outputs": []
    },
    {
      "cell_type": "code",
      "source": [
        "print(data[column_to_predict][:5])"
      ],
      "metadata": {
        "colab": {
          "base_uri": "https://localhost:8080/"
        },
        "id": "YxXeZ5bnDyVF",
        "outputId": "f9afe321-74e7-44c6-9039-ca09856dd672"
      },
      "execution_count": null,
      "outputs": [
        {
          "output_type": "stream",
          "name": "stdout",
          "text": [
            "Date\n",
            "2010-01-04    3530.0\n",
            "2010-01-05    3550.0\n",
            "2010-01-06    3530.0\n",
            "2010-01-07    3420.0\n",
            "2010-01-08    3440.0\n",
            "Name: Close, dtype: float64\n"
          ]
        }
      ]
    },
    {
      "cell_type": "code",
      "source": [
        "print(data_scaled[:5])"
      ],
      "metadata": {
        "id": "iu_JPi00NSA5",
        "colab": {
          "base_uri": "https://localhost:8080/"
        },
        "outputId": "68f04940-40fb-4e25-a968-0efe283974b9"
      },
      "execution_count": null,
      "outputs": [
        {
          "output_type": "stream",
          "name": "stdout",
          "text": [
            "[[0.04258944]\n",
            " [0.04599659]\n",
            " [0.04258944]\n",
            " [0.02385009]\n",
            " [0.02725724]]\n"
          ]
        }
      ]
    },
    {
      "cell_type": "code",
      "source": [],
      "metadata": {
        "id": "V0bn3IygECsd"
      },
      "execution_count": null,
      "outputs": []
    },
    {
      "cell_type": "markdown",
      "source": [
        "#Pembagian data latih dan data uji"
      ],
      "metadata": {
        "id": "_xIPGz18DdXf"
      }
    },
    {
      "cell_type": "code",
      "source": [
        "training_size = int(len(data_scaled)*0.80)\n",
        "test_size=len(data_scaled)-training_size\n",
        "train_data,test_data=data_scaled[0:training_size,:],data_scaled[training_size:len(data_scaled),:1]\n",
        "training_size,test_size"
      ],
      "metadata": {
        "colab": {
          "base_uri": "https://localhost:8080/"
        },
        "id": "7v2GTC6tMoJL",
        "outputId": "c4827174-235c-416e-ec29-45c9ee7844dd"
      },
      "execution_count": null,
      "outputs": [
        {
          "output_type": "execute_result",
          "data": {
            "text/plain": [
              "(2839, 710)"
            ]
          },
          "metadata": {},
          "execution_count": 13
        }
      ]
    },
    {
      "cell_type": "markdown",
      "source": [
        "# Pembuatan data sekuensial"
      ],
      "metadata": {
        "id": "8TpMfYaiDh-J"
      }
    },
    {
      "cell_type": "code",
      "source": [
        "time_step = 90\n",
        "X_train, y_train = [], []\n",
        "for i in range(len(train_data) - time_step - 1):\n",
        "    a = train_data[i:(i + time_step), 0]\n",
        "    X_train.append(a)\n",
        "    y_train.append(train_data[i + time_step, 0])\n",
        "\n",
        "X_test, y_test = [], []\n",
        "for i in range(len(test_data) - time_step - 1):\n",
        "    a = test_data[i:(i + time_step), 0]\n",
        "    X_test.append(a)\n",
        "    y_test.append(test_data[i + time_step, 0])\n",
        "\n",
        "X_train = np.array(X_train).reshape(-1, time_step, 1)\n",
        "X_test = np.array(X_test).reshape(-1, time_step, 1)\n",
        "y_train = np.array(y_train)\n",
        "y_test = np.array(y_test)\n"
      ],
      "metadata": {
        "id": "AKDB7OfIMoM3"
      },
      "execution_count": null,
      "outputs": []
    },
    {
      "cell_type": "code",
      "source": [
        "X_train.shape[1],1"
      ],
      "metadata": {
        "colab": {
          "base_uri": "https://localhost:8080/"
        },
        "id": "8w9wzk8jwxbJ",
        "outputId": "f71d79a6-5818-4eab-e265-ce266aa3d827"
      },
      "execution_count": null,
      "outputs": [
        {
          "output_type": "execute_result",
          "data": {
            "text/plain": [
              "(90, 1)"
            ]
          },
          "metadata": {},
          "execution_count": 15
        }
      ]
    },
    {
      "cell_type": "code",
      "source": [
        "# from keras.layers import LSTM, Dropout, Dense\n",
        "# from keras.models import Sequential\n",
        "\n",
        "# model = Sequential()\n",
        "# model.add(LSTM(128, return_sequences=True, input_shape=(X_train.shape[1], 1), activation='tanh', recurrent_activation='sigmoid', recurrent_dropout=0))\n",
        "# model.add(Dropout(0.4))\n",
        "# model.add(LSTM(128, return_sequences=True, activation='tanh', recurrent_activation='sigmoid', recurrent_dropout=0))\n",
        "# model.add(Dropout(0.4))\n",
        "# model.add(LSTM(64, return_sequences=True, activation='tanh', recurrent_activation='sigmoid', recurrent_dropout=0))\n",
        "# model.add(Dropout(0.4))\n",
        "# model.add(LSTM(64, return_sequences=False, activation='tanh', recurrent_activation='sigmoid', recurrent_dropout=0))\n",
        "# model.add(Dense(1))\n",
        "# model.compile(loss='mean_squared_error', optimizer='adam', metrics=['mean_squared_error'])\n",
        "# model.summary()\n"
      ],
      "metadata": {
        "id": "5MP-MXzmanyr"
      },
      "execution_count": null,
      "outputs": []
    },
    {
      "cell_type": "code",
      "source": [
        "from keras.layers import LSTM, Dropout, Dense\n",
        "from keras.models import Sequential\n",
        "from keras.optimizers import Adam\n",
        "from keras.callbacks import EarlyStopping, ModelCheckpoint\n",
        "\n",
        "model = Sequential()\n",
        "model.add(LSTM(128, return_sequences=True, input_shape=(X_train.shape[1], 1), activation='tanh'))\n",
        "model.add(Dropout(0.4))\n",
        "model.add(LSTM(128, return_sequences=True, activation='tanh'))\n",
        "model.add(Dropout(0.4))\n",
        "model.add(LSTM(64, return_sequences=True, activation='tanh'))\n",
        "model.add(Dropout(0.4))\n",
        "model.add(LSTM(64, return_sequences=False, activation='tanh'))\n",
        "model.add(Dense(1))\n",
        "\n",
        "model.compile(loss='mean_squared_error', optimizer=Adam(learning_rate=0.001), metrics=['mean_absolute_percentage_error', 'mean_squared_error'])\n",
        "\n",
        "\n",
        "model.summary()"
      ],
      "metadata": {
        "colab": {
          "base_uri": "https://localhost:8080/"
        },
        "id": "ybROtCe95c2m",
        "outputId": "1f18dc14-b72c-4799-dc1b-14a50289c01d"
      },
      "execution_count": null,
      "outputs": [
        {
          "output_type": "stream",
          "name": "stdout",
          "text": [
            "Model: \"sequential\"\n",
            "_________________________________________________________________\n",
            " Layer (type)                Output Shape              Param #   \n",
            "=================================================================\n",
            " lstm (LSTM)                 (None, 90, 128)           66560     \n",
            "                                                                 \n",
            " dropout (Dropout)           (None, 90, 128)           0         \n",
            "                                                                 \n",
            " lstm_1 (LSTM)               (None, 90, 128)           131584    \n",
            "                                                                 \n",
            " dropout_1 (Dropout)         (None, 90, 128)           0         \n",
            "                                                                 \n",
            " lstm_2 (LSTM)               (None, 90, 64)            49408     \n",
            "                                                                 \n",
            " dropout_2 (Dropout)         (None, 90, 64)            0         \n",
            "                                                                 \n",
            " lstm_3 (LSTM)               (None, 64)                33024     \n",
            "                                                                 \n",
            " dense (Dense)               (None, 1)                 65        \n",
            "                                                                 \n",
            "=================================================================\n",
            "Total params: 280641 (1.07 MB)\n",
            "Trainable params: 280641 (1.07 MB)\n",
            "Non-trainable params: 0 (0.00 Byte)\n",
            "_________________________________________________________________\n"
          ]
        }
      ]
    },
    {
      "cell_type": "code",
      "source": [],
      "metadata": {
        "id": "gfIDwIZx7WmF"
      },
      "execution_count": null,
      "outputs": []
    },
    {
      "cell_type": "code",
      "source": [
        "# early_stopping = EarlyStopping(monitor='val_loss', patience=10, restore_best_weights=True)\n",
        "model_checkpoint = ModelCheckpoint('best_model.h5', monitor='val_loss', save_best_only=True)\n",
        "\n",
        "history = model.fit(\n",
        "    X_train, y_train,\n",
        "    epochs=100,\n",
        "    batch_size=64,\n",
        "    validation_split=0.2,\n",
        "    callbacks=[model_checkpoint]\n",
        ")"
      ],
      "metadata": {
        "colab": {
          "base_uri": "https://localhost:8080/"
        },
        "id": "FnBK43D7ayIz",
        "outputId": "acf2a073-11b9-4200-f22d-4e5bef3b5500"
      },
      "execution_count": null,
      "outputs": [
        {
          "output_type": "stream",
          "name": "stdout",
          "text": [
            "Epoch 1/100\n",
            "35/35 [==============================] - 13s 67ms/step - loss: 0.0475 - mean_absolute_percentage_error: 25.7696 - mean_squared_error: 0.0475 - val_loss: 0.0091 - val_mean_absolute_percentage_error: 803014.3125 - val_mean_squared_error: 0.0091\n",
            "Epoch 2/100\n",
            " 7/35 [=====>........................] - ETA: 0s - loss: 0.0105 - mean_absolute_percentage_error: 15.0294 - mean_squared_error: 0.0105"
          ]
        },
        {
          "output_type": "stream",
          "name": "stderr",
          "text": [
            "/usr/local/lib/python3.10/dist-packages/keras/src/engine/training.py:3103: UserWarning: You are saving your model as an HDF5 file via `model.save()`. This file format is considered legacy. We recommend using instead the native Keras format, e.g. `model.save('my_model.keras')`.\n",
            "  saving_api.save_model(\n"
          ]
        },
        {
          "output_type": "stream",
          "name": "stdout",
          "text": [
            "35/35 [==============================] - 1s 31ms/step - loss: 0.0069 - mean_absolute_percentage_error: 11.8972 - mean_squared_error: 0.0069 - val_loss: 0.0057 - val_mean_absolute_percentage_error: 720597.8125 - val_mean_squared_error: 0.0057\n",
            "Epoch 3/100\n",
            "35/35 [==============================] - 2s 48ms/step - loss: 0.0048 - mean_absolute_percentage_error: 9.4501 - mean_squared_error: 0.0048 - val_loss: 0.0058 - val_mean_absolute_percentage_error: 702184.8125 - val_mean_squared_error: 0.0058\n",
            "Epoch 4/100\n",
            "35/35 [==============================] - 1s 32ms/step - loss: 0.0047 - mean_absolute_percentage_error: 9.2801 - mean_squared_error: 0.0047 - val_loss: 0.0074 - val_mean_absolute_percentage_error: 730885.9375 - val_mean_squared_error: 0.0074\n",
            "Epoch 5/100\n",
            "35/35 [==============================] - 1s 22ms/step - loss: 0.0044 - mean_absolute_percentage_error: 9.0028 - mean_squared_error: 0.0044 - val_loss: 0.0049 - val_mean_absolute_percentage_error: 664321.3750 - val_mean_squared_error: 0.0049\n",
            "Epoch 6/100\n",
            "35/35 [==============================] - 1s 21ms/step - loss: 0.0041 - mean_absolute_percentage_error: 8.7957 - mean_squared_error: 0.0041 - val_loss: 0.0048 - val_mean_absolute_percentage_error: 654530.8750 - val_mean_squared_error: 0.0048\n",
            "Epoch 7/100\n",
            "35/35 [==============================] - 1s 22ms/step - loss: 0.0037 - mean_absolute_percentage_error: 8.3419 - mean_squared_error: 0.0037 - val_loss: 0.0047 - val_mean_absolute_percentage_error: 635400.1250 - val_mean_squared_error: 0.0047\n",
            "Epoch 8/100\n",
            "35/35 [==============================] - 1s 20ms/step - loss: 0.0037 - mean_absolute_percentage_error: 8.3772 - mean_squared_error: 0.0037 - val_loss: 0.0051 - val_mean_absolute_percentage_error: 643068.2500 - val_mean_squared_error: 0.0051\n",
            "Epoch 9/100\n",
            "35/35 [==============================] - 1s 23ms/step - loss: 0.0038 - mean_absolute_percentage_error: 8.4111 - mean_squared_error: 0.0038 - val_loss: 0.0046 - val_mean_absolute_percentage_error: 625481.7500 - val_mean_squared_error: 0.0046\n",
            "Epoch 10/100\n",
            "35/35 [==============================] - 1s 25ms/step - loss: 0.0035 - mean_absolute_percentage_error: 8.1530 - mean_squared_error: 0.0035 - val_loss: 0.0042 - val_mean_absolute_percentage_error: 606240.8125 - val_mean_squared_error: 0.0042\n",
            "Epoch 11/100\n",
            "35/35 [==============================] - 1s 21ms/step - loss: 0.0034 - mean_absolute_percentage_error: 7.9438 - mean_squared_error: 0.0034 - val_loss: 0.0043 - val_mean_absolute_percentage_error: 611333.3750 - val_mean_squared_error: 0.0043\n",
            "Epoch 12/100\n",
            "35/35 [==============================] - 1s 25ms/step - loss: 0.0036 - mean_absolute_percentage_error: 8.1465 - mean_squared_error: 0.0036 - val_loss: 0.0036 - val_mean_absolute_percentage_error: 579328.9375 - val_mean_squared_error: 0.0036\n",
            "Epoch 13/100\n",
            "35/35 [==============================] - 1s 23ms/step - loss: 0.0033 - mean_absolute_percentage_error: 7.8072 - mean_squared_error: 0.0033 - val_loss: 0.0053 - val_mean_absolute_percentage_error: 634215.1875 - val_mean_squared_error: 0.0053\n",
            "Epoch 14/100\n",
            "35/35 [==============================] - 1s 22ms/step - loss: 0.0032 - mean_absolute_percentage_error: 7.7074 - mean_squared_error: 0.0032 - val_loss: 0.0035 - val_mean_absolute_percentage_error: 540694.2500 - val_mean_squared_error: 0.0035\n",
            "Epoch 15/100\n",
            "35/35 [==============================] - 1s 21ms/step - loss: 0.0034 - mean_absolute_percentage_error: 7.9719 - mean_squared_error: 0.0034 - val_loss: 0.0043 - val_mean_absolute_percentage_error: 586244.5625 - val_mean_squared_error: 0.0043\n",
            "Epoch 16/100\n",
            "35/35 [==============================] - 1s 25ms/step - loss: 0.0030 - mean_absolute_percentage_error: 7.5158 - mean_squared_error: 0.0030 - val_loss: 0.0034 - val_mean_absolute_percentage_error: 557143.7500 - val_mean_squared_error: 0.0034\n",
            "Epoch 17/100\n",
            "35/35 [==============================] - 1s 26ms/step - loss: 0.0029 - mean_absolute_percentage_error: 7.3319 - mean_squared_error: 0.0029 - val_loss: 0.0041 - val_mean_absolute_percentage_error: 574137.8125 - val_mean_squared_error: 0.0041\n",
            "Epoch 18/100\n",
            "35/35 [==============================] - 1s 31ms/step - loss: 0.0028 - mean_absolute_percentage_error: 7.2103 - mean_squared_error: 0.0028 - val_loss: 0.0031 - val_mean_absolute_percentage_error: 517896.6562 - val_mean_squared_error: 0.0031\n",
            "Epoch 19/100\n",
            "35/35 [==============================] - 1s 32ms/step - loss: 0.0031 - mean_absolute_percentage_error: 7.6763 - mean_squared_error: 0.0031 - val_loss: 0.0033 - val_mean_absolute_percentage_error: 482182.8125 - val_mean_squared_error: 0.0033\n",
            "Epoch 20/100\n",
            "35/35 [==============================] - 1s 28ms/step - loss: 0.0027 - mean_absolute_percentage_error: 7.1591 - mean_squared_error: 0.0027 - val_loss: 0.0031 - val_mean_absolute_percentage_error: 501766.9375 - val_mean_squared_error: 0.0031\n",
            "Epoch 21/100\n",
            "35/35 [==============================] - 1s 37ms/step - loss: 0.0027 - mean_absolute_percentage_error: 7.1613 - mean_squared_error: 0.0027 - val_loss: 0.0031 - val_mean_absolute_percentage_error: 512783.3125 - val_mean_squared_error: 0.0031\n",
            "Epoch 22/100\n",
            "35/35 [==============================] - 1s 29ms/step - loss: 0.0027 - mean_absolute_percentage_error: 6.9222 - mean_squared_error: 0.0027 - val_loss: 0.0032 - val_mean_absolute_percentage_error: 530845.8750 - val_mean_squared_error: 0.0032\n",
            "Epoch 23/100\n",
            "35/35 [==============================] - 1s 30ms/step - loss: 0.0024 - mean_absolute_percentage_error: 6.7699 - mean_squared_error: 0.0024 - val_loss: 0.0027 - val_mean_absolute_percentage_error: 489434.2500 - val_mean_squared_error: 0.0027\n",
            "Epoch 24/100\n",
            "35/35 [==============================] - 1s 22ms/step - loss: 0.0025 - mean_absolute_percentage_error: 6.8760 - mean_squared_error: 0.0025 - val_loss: 0.0032 - val_mean_absolute_percentage_error: 524066.0938 - val_mean_squared_error: 0.0032\n",
            "Epoch 25/100\n",
            "35/35 [==============================] - 1s 22ms/step - loss: 0.0024 - mean_absolute_percentage_error: 6.7982 - mean_squared_error: 0.0024 - val_loss: 0.0027 - val_mean_absolute_percentage_error: 498158.1875 - val_mean_squared_error: 0.0027\n",
            "Epoch 26/100\n",
            "35/35 [==============================] - 1s 21ms/step - loss: 0.0022 - mean_absolute_percentage_error: 6.5206 - mean_squared_error: 0.0022 - val_loss: 0.0025 - val_mean_absolute_percentage_error: 455010.9688 - val_mean_squared_error: 0.0025\n",
            "Epoch 27/100\n",
            "35/35 [==============================] - 1s 22ms/step - loss: 0.0025 - mean_absolute_percentage_error: 6.8054 - mean_squared_error: 0.0025 - val_loss: 0.0026 - val_mean_absolute_percentage_error: 491871.8125 - val_mean_squared_error: 0.0026\n",
            "Epoch 28/100\n",
            "35/35 [==============================] - 1s 26ms/step - loss: 0.0023 - mean_absolute_percentage_error: 6.5099 - mean_squared_error: 0.0023 - val_loss: 0.0023 - val_mean_absolute_percentage_error: 445094.4062 - val_mean_squared_error: 0.0023\n",
            "Epoch 29/100\n",
            "35/35 [==============================] - 1s 21ms/step - loss: 0.0023 - mean_absolute_percentage_error: 6.5124 - mean_squared_error: 0.0023 - val_loss: 0.0031 - val_mean_absolute_percentage_error: 502384.2812 - val_mean_squared_error: 0.0031\n",
            "Epoch 30/100\n",
            "35/35 [==============================] - 1s 21ms/step - loss: 0.0021 - mean_absolute_percentage_error: 6.2578 - mean_squared_error: 0.0021 - val_loss: 0.0032 - val_mean_absolute_percentage_error: 468584.8750 - val_mean_squared_error: 0.0032\n",
            "Epoch 31/100\n",
            "35/35 [==============================] - 1s 23ms/step - loss: 0.0022 - mean_absolute_percentage_error: 6.3331 - mean_squared_error: 0.0022 - val_loss: 0.0024 - val_mean_absolute_percentage_error: 464181.5312 - val_mean_squared_error: 0.0024\n",
            "Epoch 32/100\n",
            "35/35 [==============================] - 1s 30ms/step - loss: 0.0020 - mean_absolute_percentage_error: 6.3040 - mean_squared_error: 0.0020 - val_loss: 0.0022 - val_mean_absolute_percentage_error: 450913.8750 - val_mean_squared_error: 0.0022\n",
            "Epoch 33/100\n",
            "35/35 [==============================] - 1s 34ms/step - loss: 0.0020 - mean_absolute_percentage_error: 6.0494 - mean_squared_error: 0.0020 - val_loss: 0.0021 - val_mean_absolute_percentage_error: 396160.3438 - val_mean_squared_error: 0.0021\n",
            "Epoch 34/100\n",
            "35/35 [==============================] - 1s 24ms/step - loss: 0.0021 - mean_absolute_percentage_error: 6.2569 - mean_squared_error: 0.0021 - val_loss: 0.0022 - val_mean_absolute_percentage_error: 437949.9688 - val_mean_squared_error: 0.0022\n",
            "Epoch 35/100\n",
            "35/35 [==============================] - 1s 21ms/step - loss: 0.0018 - mean_absolute_percentage_error: 5.8484 - mean_squared_error: 0.0018 - val_loss: 0.0022 - val_mean_absolute_percentage_error: 426689.7500 - val_mean_squared_error: 0.0022\n",
            "Epoch 36/100\n",
            "35/35 [==============================] - 1s 21ms/step - loss: 0.0018 - mean_absolute_percentage_error: 5.9067 - mean_squared_error: 0.0018 - val_loss: 0.0028 - val_mean_absolute_percentage_error: 455027.5938 - val_mean_squared_error: 0.0028\n",
            "Epoch 37/100\n",
            "35/35 [==============================] - 1s 23ms/step - loss: 0.0020 - mean_absolute_percentage_error: 6.1013 - mean_squared_error: 0.0020 - val_loss: 0.0019 - val_mean_absolute_percentage_error: 373173.3438 - val_mean_squared_error: 0.0019\n",
            "Epoch 38/100\n",
            "35/35 [==============================] - 1s 22ms/step - loss: 0.0021 - mean_absolute_percentage_error: 6.2256 - mean_squared_error: 0.0021 - val_loss: 0.0019 - val_mean_absolute_percentage_error: 400632.8750 - val_mean_squared_error: 0.0019\n",
            "Epoch 39/100\n",
            "35/35 [==============================] - 1s 21ms/step - loss: 0.0019 - mean_absolute_percentage_error: 5.9006 - mean_squared_error: 0.0019 - val_loss: 0.0023 - val_mean_absolute_percentage_error: 416094.4688 - val_mean_squared_error: 0.0023\n",
            "Epoch 40/100\n",
            "35/35 [==============================] - 1s 22ms/step - loss: 0.0019 - mean_absolute_percentage_error: 5.9833 - mean_squared_error: 0.0019 - val_loss: 0.0019 - val_mean_absolute_percentage_error: 399029.2812 - val_mean_squared_error: 0.0019\n",
            "Epoch 41/100\n",
            "35/35 [==============================] - 1s 22ms/step - loss: 0.0019 - mean_absolute_percentage_error: 5.8882 - mean_squared_error: 0.0019 - val_loss: 0.0020 - val_mean_absolute_percentage_error: 380668.1250 - val_mean_squared_error: 0.0020\n",
            "Epoch 42/100\n",
            "35/35 [==============================] - 1s 25ms/step - loss: 0.0018 - mean_absolute_percentage_error: 5.8215 - mean_squared_error: 0.0018 - val_loss: 0.0016 - val_mean_absolute_percentage_error: 370901.6875 - val_mean_squared_error: 0.0016\n",
            "Epoch 43/100\n",
            "35/35 [==============================] - 1s 21ms/step - loss: 0.0016 - mean_absolute_percentage_error: 5.3962 - mean_squared_error: 0.0016 - val_loss: 0.0018 - val_mean_absolute_percentage_error: 379426.8125 - val_mean_squared_error: 0.0018\n",
            "Epoch 44/100\n",
            "35/35 [==============================] - 1s 22ms/step - loss: 0.0018 - mean_absolute_percentage_error: 5.7669 - mean_squared_error: 0.0018 - val_loss: 0.0018 - val_mean_absolute_percentage_error: 324354.6562 - val_mean_squared_error: 0.0018\n",
            "Epoch 45/100\n",
            "35/35 [==============================] - 1s 22ms/step - loss: 0.0017 - mean_absolute_percentage_error: 5.5348 - mean_squared_error: 0.0017 - val_loss: 0.0016 - val_mean_absolute_percentage_error: 365753.3438 - val_mean_squared_error: 0.0016\n",
            "Epoch 46/100\n",
            "35/35 [==============================] - 1s 23ms/step - loss: 0.0015 - mean_absolute_percentage_error: 5.4238 - mean_squared_error: 0.0015 - val_loss: 0.0016 - val_mean_absolute_percentage_error: 336964.5625 - val_mean_squared_error: 0.0016\n",
            "Epoch 47/100\n",
            "35/35 [==============================] - 1s 30ms/step - loss: 0.0015 - mean_absolute_percentage_error: 5.2890 - mean_squared_error: 0.0015 - val_loss: 0.0015 - val_mean_absolute_percentage_error: 337810.7188 - val_mean_squared_error: 0.0015\n",
            "Epoch 48/100\n",
            "35/35 [==============================] - 1s 32ms/step - loss: 0.0016 - mean_absolute_percentage_error: 5.3968 - mean_squared_error: 0.0016 - val_loss: 0.0014 - val_mean_absolute_percentage_error: 311234.8750 - val_mean_squared_error: 0.0014\n",
            "Epoch 49/100\n",
            "35/35 [==============================] - 1s 32ms/step - loss: 0.0015 - mean_absolute_percentage_error: 5.2536 - mean_squared_error: 0.0015 - val_loss: 0.0014 - val_mean_absolute_percentage_error: 327115.5938 - val_mean_squared_error: 0.0014\n",
            "Epoch 50/100\n",
            "35/35 [==============================] - 1s 20ms/step - loss: 0.0015 - mean_absolute_percentage_error: 5.2514 - mean_squared_error: 0.0015 - val_loss: 0.0015 - val_mean_absolute_percentage_error: 329265.9688 - val_mean_squared_error: 0.0015\n",
            "Epoch 51/100\n",
            "35/35 [==============================] - 1s 23ms/step - loss: 0.0015 - mean_absolute_percentage_error: 5.3774 - mean_squared_error: 0.0015 - val_loss: 0.0018 - val_mean_absolute_percentage_error: 364786.1562 - val_mean_squared_error: 0.0018\n",
            "Epoch 52/100\n",
            "35/35 [==============================] - 1s 23ms/step - loss: 0.0015 - mean_absolute_percentage_error: 5.2584 - mean_squared_error: 0.0015 - val_loss: 0.0014 - val_mean_absolute_percentage_error: 328589.4062 - val_mean_squared_error: 0.0014\n",
            "Epoch 53/100\n",
            "35/35 [==============================] - 1s 21ms/step - loss: 0.0014 - mean_absolute_percentage_error: 5.0339 - mean_squared_error: 0.0014 - val_loss: 0.0016 - val_mean_absolute_percentage_error: 343133.0625 - val_mean_squared_error: 0.0016\n",
            "Epoch 54/100\n",
            "35/35 [==============================] - 1s 24ms/step - loss: 0.0015 - mean_absolute_percentage_error: 5.3648 - mean_squared_error: 0.0015 - val_loss: 0.0014 - val_mean_absolute_percentage_error: 337429.4375 - val_mean_squared_error: 0.0014\n",
            "Epoch 55/100\n",
            "35/35 [==============================] - 1s 23ms/step - loss: 0.0014 - mean_absolute_percentage_error: 5.1265 - mean_squared_error: 0.0014 - val_loss: 0.0016 - val_mean_absolute_percentage_error: 345121.1875 - val_mean_squared_error: 0.0016\n",
            "Epoch 56/100\n",
            "35/35 [==============================] - 1s 21ms/step - loss: 0.0015 - mean_absolute_percentage_error: 5.3820 - mean_squared_error: 0.0015 - val_loss: 0.0023 - val_mean_absolute_percentage_error: 340180.0938 - val_mean_squared_error: 0.0023\n",
            "Epoch 57/100\n",
            "35/35 [==============================] - 1s 21ms/step - loss: 0.0013 - mean_absolute_percentage_error: 4.9063 - mean_squared_error: 0.0013 - val_loss: 0.0016 - val_mean_absolute_percentage_error: 321879.4375 - val_mean_squared_error: 0.0016\n",
            "Epoch 58/100\n",
            "35/35 [==============================] - 1s 23ms/step - loss: 0.0014 - mean_absolute_percentage_error: 5.1147 - mean_squared_error: 0.0014 - val_loss: 0.0012 - val_mean_absolute_percentage_error: 240194.9219 - val_mean_squared_error: 0.0012\n",
            "Epoch 59/100\n",
            "35/35 [==============================] - 1s 22ms/step - loss: 0.0013 - mean_absolute_percentage_error: 4.9441 - mean_squared_error: 0.0013 - val_loss: 0.0016 - val_mean_absolute_percentage_error: 327830.0938 - val_mean_squared_error: 0.0016\n",
            "Epoch 60/100\n",
            "35/35 [==============================] - 1s 21ms/step - loss: 0.0014 - mean_absolute_percentage_error: 5.2819 - mean_squared_error: 0.0014 - val_loss: 0.0013 - val_mean_absolute_percentage_error: 304084.0938 - val_mean_squared_error: 0.0013\n",
            "Epoch 61/100\n",
            "35/35 [==============================] - 1s 22ms/step - loss: 0.0013 - mean_absolute_percentage_error: 4.8780 - mean_squared_error: 0.0013 - val_loss: 0.0012 - val_mean_absolute_percentage_error: 273672.7500 - val_mean_squared_error: 0.0012\n",
            "Epoch 62/100\n",
            "35/35 [==============================] - 1s 26ms/step - loss: 0.0013 - mean_absolute_percentage_error: 4.9005 - mean_squared_error: 0.0013 - val_loss: 0.0018 - val_mean_absolute_percentage_error: 311677.6875 - val_mean_squared_error: 0.0018\n",
            "Epoch 63/100\n",
            "35/35 [==============================] - 1s 30ms/step - loss: 0.0013 - mean_absolute_percentage_error: 4.9231 - mean_squared_error: 0.0013 - val_loss: 0.0013 - val_mean_absolute_percentage_error: 273513.5312 - val_mean_squared_error: 0.0013\n",
            "Epoch 64/100\n",
            "35/35 [==============================] - 1s 34ms/step - loss: 0.0013 - mean_absolute_percentage_error: 4.9659 - mean_squared_error: 0.0013 - val_loss: 0.0011 - val_mean_absolute_percentage_error: 249354.5312 - val_mean_squared_error: 0.0011\n",
            "Epoch 65/100\n",
            "35/35 [==============================] - 1s 25ms/step - loss: 0.0014 - mean_absolute_percentage_error: 5.1616 - mean_squared_error: 0.0014 - val_loss: 0.0013 - val_mean_absolute_percentage_error: 299011.6562 - val_mean_squared_error: 0.0013\n",
            "Epoch 66/100\n",
            "35/35 [==============================] - 1s 21ms/step - loss: 0.0012 - mean_absolute_percentage_error: 4.6654 - mean_squared_error: 0.0012 - val_loss: 0.0012 - val_mean_absolute_percentage_error: 280892.5000 - val_mean_squared_error: 0.0012\n",
            "Epoch 67/100\n",
            "35/35 [==============================] - 1s 22ms/step - loss: 0.0011 - mean_absolute_percentage_error: 4.6445 - mean_squared_error: 0.0011 - val_loss: 0.0011 - val_mean_absolute_percentage_error: 263412.5938 - val_mean_squared_error: 0.0011\n",
            "Epoch 68/100\n",
            "35/35 [==============================] - 1s 21ms/step - loss: 0.0011 - mean_absolute_percentage_error: 4.5460 - mean_squared_error: 0.0011 - val_loss: 0.0012 - val_mean_absolute_percentage_error: 260791.7344 - val_mean_squared_error: 0.0012\n",
            "Epoch 69/100\n",
            "35/35 [==============================] - 1s 21ms/step - loss: 0.0012 - mean_absolute_percentage_error: 4.6995 - mean_squared_error: 0.0012 - val_loss: 0.0018 - val_mean_absolute_percentage_error: 306546.3125 - val_mean_squared_error: 0.0018\n",
            "Epoch 70/100\n",
            "35/35 [==============================] - 1s 24ms/step - loss: 0.0012 - mean_absolute_percentage_error: 4.7483 - mean_squared_error: 0.0012 - val_loss: 0.0011 - val_mean_absolute_percentage_error: 252489.3906 - val_mean_squared_error: 0.0011\n",
            "Epoch 71/100\n",
            "35/35 [==============================] - 1s 23ms/step - loss: 0.0012 - mean_absolute_percentage_error: 4.8253 - mean_squared_error: 0.0012 - val_loss: 9.3228e-04 - val_mean_absolute_percentage_error: 239641.2500 - val_mean_squared_error: 9.3228e-04\n",
            "Epoch 72/100\n",
            "35/35 [==============================] - 1s 21ms/step - loss: 0.0013 - mean_absolute_percentage_error: 4.9893 - mean_squared_error: 0.0013 - val_loss: 0.0014 - val_mean_absolute_percentage_error: 272902.5938 - val_mean_squared_error: 0.0014\n",
            "Epoch 73/100\n",
            "35/35 [==============================] - 1s 21ms/step - loss: 0.0011 - mean_absolute_percentage_error: 4.6126 - mean_squared_error: 0.0011 - val_loss: 9.7059e-04 - val_mean_absolute_percentage_error: 227389.0156 - val_mean_squared_error: 9.7059e-04\n",
            "Epoch 74/100\n",
            "35/35 [==============================] - 1s 25ms/step - loss: 0.0011 - mean_absolute_percentage_error: 4.7297 - mean_squared_error: 0.0011 - val_loss: 0.0012 - val_mean_absolute_percentage_error: 242829.7969 - val_mean_squared_error: 0.0012\n",
            "Epoch 75/100\n",
            "35/35 [==============================] - 1s 22ms/step - loss: 0.0011 - mean_absolute_percentage_error: 4.4648 - mean_squared_error: 0.0011 - val_loss: 9.7225e-04 - val_mean_absolute_percentage_error: 197128.9219 - val_mean_squared_error: 9.7225e-04\n",
            "Epoch 76/100\n",
            "35/35 [==============================] - 1s 21ms/step - loss: 0.0011 - mean_absolute_percentage_error: 4.6029 - mean_squared_error: 0.0011 - val_loss: 9.8330e-04 - val_mean_absolute_percentage_error: 246098.2969 - val_mean_squared_error: 9.8330e-04\n",
            "Epoch 77/100\n",
            "35/35 [==============================] - 1s 23ms/step - loss: 0.0011 - mean_absolute_percentage_error: 4.6048 - mean_squared_error: 0.0011 - val_loss: 8.6929e-04 - val_mean_absolute_percentage_error: 221286.7031 - val_mean_squared_error: 8.6929e-04\n",
            "Epoch 78/100\n",
            "35/35 [==============================] - 1s 30ms/step - loss: 0.0012 - mean_absolute_percentage_error: 4.7488 - mean_squared_error: 0.0012 - val_loss: 9.6873e-04 - val_mean_absolute_percentage_error: 247632.6406 - val_mean_squared_error: 9.6873e-04\n",
            "Epoch 79/100\n",
            "35/35 [==============================] - 1s 31ms/step - loss: 0.0012 - mean_absolute_percentage_error: 4.6958 - mean_squared_error: 0.0012 - val_loss: 0.0010 - val_mean_absolute_percentage_error: 230709.5938 - val_mean_squared_error: 0.0010\n",
            "Epoch 80/100\n",
            "35/35 [==============================] - 1s 33ms/step - loss: 0.0013 - mean_absolute_percentage_error: 5.0472 - mean_squared_error: 0.0013 - val_loss: 9.1375e-04 - val_mean_absolute_percentage_error: 205735.7031 - val_mean_squared_error: 9.1375e-04\n",
            "Epoch 81/100\n",
            "35/35 [==============================] - 1s 24ms/step - loss: 0.0011 - mean_absolute_percentage_error: 4.5494 - mean_squared_error: 0.0011 - val_loss: 8.2938e-04 - val_mean_absolute_percentage_error: 205289.1562 - val_mean_squared_error: 8.2938e-04\n",
            "Epoch 82/100\n",
            "35/35 [==============================] - 1s 35ms/step - loss: 9.8992e-04 - mean_absolute_percentage_error: 4.2679 - mean_squared_error: 9.8992e-04 - val_loss: 9.4931e-04 - val_mean_absolute_percentage_error: 228308.6406 - val_mean_squared_error: 9.4931e-04\n",
            "Epoch 83/100\n",
            "35/35 [==============================] - 1s 23ms/step - loss: 0.0012 - mean_absolute_percentage_error: 4.8188 - mean_squared_error: 0.0012 - val_loss: 8.0860e-04 - val_mean_absolute_percentage_error: 181055.9062 - val_mean_squared_error: 8.0860e-04\n",
            "Epoch 84/100\n",
            "35/35 [==============================] - 1s 21ms/step - loss: 0.0011 - mean_absolute_percentage_error: 4.6103 - mean_squared_error: 0.0011 - val_loss: 9.8845e-04 - val_mean_absolute_percentage_error: 239984.5625 - val_mean_squared_error: 9.8845e-04\n",
            "Epoch 85/100\n",
            "35/35 [==============================] - 1s 23ms/step - loss: 9.8051e-04 - mean_absolute_percentage_error: 4.2901 - mean_squared_error: 9.8051e-04 - val_loss: 8.3986e-04 - val_mean_absolute_percentage_error: 224286.7969 - val_mean_squared_error: 8.3986e-04\n",
            "Epoch 86/100\n",
            "35/35 [==============================] - 1s 22ms/step - loss: 9.4068e-04 - mean_absolute_percentage_error: 4.2318 - mean_squared_error: 9.4068e-04 - val_loss: 7.3729e-04 - val_mean_absolute_percentage_error: 197237.4688 - val_mean_squared_error: 7.3729e-04\n",
            "Epoch 87/100\n",
            "35/35 [==============================] - 1s 22ms/step - loss: 0.0010 - mean_absolute_percentage_error: 4.4173 - mean_squared_error: 0.0010 - val_loss: 8.3437e-04 - val_mean_absolute_percentage_error: 217744.7188 - val_mean_squared_error: 8.3437e-04\n",
            "Epoch 88/100\n",
            "35/35 [==============================] - 1s 22ms/step - loss: 0.0010 - mean_absolute_percentage_error: 4.3485 - mean_squared_error: 0.0010 - val_loss: 8.2822e-04 - val_mean_absolute_percentage_error: 211422.0469 - val_mean_squared_error: 8.2822e-04\n",
            "Epoch 89/100\n",
            "35/35 [==============================] - 1s 34ms/step - loss: 0.0010 - mean_absolute_percentage_error: 4.3368 - mean_squared_error: 0.0010 - val_loss: 0.0012 - val_mean_absolute_percentage_error: 249325.7344 - val_mean_squared_error: 0.0012\n",
            "Epoch 90/100\n",
            "35/35 [==============================] - 1s 43ms/step - loss: 0.0010 - mean_absolute_percentage_error: 4.4472 - mean_squared_error: 0.0010 - val_loss: 0.0010 - val_mean_absolute_percentage_error: 200598.2031 - val_mean_squared_error: 0.0010\n",
            "Epoch 91/100\n",
            "35/35 [==============================] - 3s 75ms/step - loss: 0.0010 - mean_absolute_percentage_error: 4.4107 - mean_squared_error: 0.0010 - val_loss: 7.8120e-04 - val_mean_absolute_percentage_error: 177580.8281 - val_mean_squared_error: 7.8120e-04\n",
            "Epoch 92/100\n",
            "35/35 [==============================] - 2s 67ms/step - loss: 0.0010 - mean_absolute_percentage_error: 4.4495 - mean_squared_error: 0.0010 - val_loss: 0.0013 - val_mean_absolute_percentage_error: 254095.1562 - val_mean_squared_error: 0.0013\n",
            "Epoch 93/100\n",
            "35/35 [==============================] - 2s 56ms/step - loss: 0.0012 - mean_absolute_percentage_error: 4.9215 - mean_squared_error: 0.0012 - val_loss: 9.2695e-04 - val_mean_absolute_percentage_error: 161456.0469 - val_mean_squared_error: 9.2695e-04\n",
            "Epoch 94/100\n",
            "35/35 [==============================] - 2s 56ms/step - loss: 0.0011 - mean_absolute_percentage_error: 4.4361 - mean_squared_error: 0.0011 - val_loss: 9.1183e-04 - val_mean_absolute_percentage_error: 222417.9062 - val_mean_squared_error: 9.1183e-04\n",
            "Epoch 95/100\n",
            "35/35 [==============================] - 2s 48ms/step - loss: 9.3375e-04 - mean_absolute_percentage_error: 4.1858 - mean_squared_error: 9.3375e-04 - val_loss: 7.2724e-04 - val_mean_absolute_percentage_error: 156383.0312 - val_mean_squared_error: 7.2724e-04\n",
            "Epoch 96/100\n",
            "35/35 [==============================] - 1s 42ms/step - loss: 9.5857e-04 - mean_absolute_percentage_error: 4.2479 - mean_squared_error: 9.5857e-04 - val_loss: 0.0010 - val_mean_absolute_percentage_error: 232002.5156 - val_mean_squared_error: 0.0010\n",
            "Epoch 97/100\n",
            "35/35 [==============================] - 1s 41ms/step - loss: 9.0694e-04 - mean_absolute_percentage_error: 4.1404 - mean_squared_error: 9.0694e-04 - val_loss: 7.8526e-04 - val_mean_absolute_percentage_error: 213963.5000 - val_mean_squared_error: 7.8526e-04\n",
            "Epoch 98/100\n",
            "35/35 [==============================] - 2s 50ms/step - loss: 9.9843e-04 - mean_absolute_percentage_error: 4.3709 - mean_squared_error: 9.9843e-04 - val_loss: 7.6392e-04 - val_mean_absolute_percentage_error: 177648.3594 - val_mean_squared_error: 7.6392e-04\n",
            "Epoch 99/100\n",
            "35/35 [==============================] - 2s 62ms/step - loss: 9.4966e-04 - mean_absolute_percentage_error: 4.2350 - mean_squared_error: 9.4966e-04 - val_loss: 7.0597e-04 - val_mean_absolute_percentage_error: 204041.7812 - val_mean_squared_error: 7.0597e-04\n",
            "Epoch 100/100\n",
            "35/35 [==============================] - 1s 41ms/step - loss: 0.0011 - mean_absolute_percentage_error: 4.6442 - mean_squared_error: 0.0011 - val_loss: 8.5615e-04 - val_mean_absolute_percentage_error: 231741.5938 - val_mean_squared_error: 8.5615e-04\n"
          ]
        }
      ]
    },
    {
      "cell_type": "code",
      "source": [
        "import matplotlib.pyplot as plt\n",
        "\n",
        "# Plot training & validation loss values\n",
        "plt.figure(figsize=(10, 5))\n",
        "plt.plot(history.history['loss'], label='Train Loss')\n",
        "plt.plot(history.history['val_loss'], label='Validation Loss')\n",
        "plt.title('Model Training Loss')\n",
        "plt.ylabel('Loss')\n",
        "plt.xlabel('Epoch')\n",
        "plt.legend(loc='upper right')\n",
        "plt.show()"
      ],
      "metadata": {
        "colab": {
          "base_uri": "https://localhost:8080/",
          "height": 507
        },
        "id": "s2KB-DZlOuXn",
        "outputId": "eb537064-34ce-493e-97bb-48553c80cbeb"
      },
      "execution_count": null,
      "outputs": [
        {
          "output_type": "display_data",
          "data": {
            "text/plain": [
              "<Figure size 1000x500 with 1 Axes>"
            ],
            "image/png": "[encoded data removed]"
          },
          "metadata": {}
        }
      ]
    },
    {
      "cell_type": "code",
      "source": [
        "import matplotlib.pyplot as plt\n",
        "from sklearn.preprocessing import MinMaxScaler\n",
        "import numpy as np\n",
        "\n",
        "\n",
        "y_pred = model.predict(X_test)\n",
        "\n",
        "y_pred_denorm = scaler.inverse_transform(y_pred)\n",
        "y_test_denorm = scaler.inverse_transform(y_test.reshape(-1, 1))\n",
        "\n",
        "dates = pd.date_range(start=start_date, periods=len(data), freq='B')\n",
        "plt.figure(figsize=(10, 5))\n",
        "plt.plot(y_test_denorm, label='Harga Asli')\n",
        "plt.plot(y_pred_denorm, label='Harga prediksi', linestyle='--')\n",
        "plt.title('Perbandingan Harga Asli dengan Harga prediksi')\n",
        "plt.xlabel('Waktu')\n",
        "plt.ylabel('Harga Saham')\n",
        "plt.legend()\n",
        "plt.show()\n"
      ],
      "metadata": {
        "colab": {
          "base_uri": "https://localhost:8080/",
          "height": 524
        },
        "id": "5kXt4cOQMoYP",
        "outputId": "5e49e156-9f08-46b1-a354-ee0fd009eb3e"
      },
      "execution_count": null,
      "outputs": [
        {
          "output_type": "stream",
          "name": "stdout",
          "text": [
            "20/20 [==============================] - 1s 12ms/step\n"
          ]
        },
        {
          "output_type": "display_data",
          "data": {
            "text/plain": [
              "<Figure size 1000x500 with 1 Axes>"
            ],
            "image/png": "[encoded data removed]"
          },
          "metadata": {}
        }
      ]
    },
    {
      "cell_type": "code",
      "source": [
        "train_predict = model.predict(X_train)\n",
        "test_predict = model.predict(X_test)\n",
        "\n",
        "train_predict_denorm = scaler.inverse_transform(train_predict)\n",
        "test_predict_denorm = scaler.inverse_transform(test_predict)\n",
        "\n",
        "y_train_denorm = scaler.inverse_transform(y_train.reshape(-1, 1))\n",
        "y_test_denorm = scaler.inverse_transform(y_test.reshape(-1, 1))\n"
      ],
      "metadata": {
        "id": "u3rtHI_BiXOG",
        "colab": {
          "base_uri": "https://localhost:8080/"
        },
        "outputId": "d24f6d5c-9c28-41c1-8fa3-7e0228e1a289"
      },
      "execution_count": null,
      "outputs": [
        {
          "output_type": "stream",
          "name": "stdout",
          "text": [
            "86/86 [==============================] - 1s 7ms/step\n",
            "20/20 [==============================] - 0s 7ms/step\n"
          ]
        }
      ]
    },
    {
      "cell_type": "code",
      "source": [],
      "metadata": {
        "id": "vPWT_EOf3L1L"
      },
      "execution_count": null,
      "outputs": []
    },
    {
      "cell_type": "code",
      "source": [
        "# dates = pd.date_range(start=start_date, periods=len(data), freq='B')\n",
        "\n",
        "# full_actual = np.concatenate((y_train_denorm, y_test_denorm), axis=0)\n",
        "# full_predicted = np.concatenate((train_predict_denorm, test_predict_denorm), axis=0)\n",
        "# adjusted_dates = dates[:len(full_actual)]\n",
        "# plt.figure(figsize=(15, 8))\n",
        "# plt.plot(adjusted_dates, full_actual, label='Actual Data')\n",
        "# plt.plot(adjusted_dates[:len(y_train_denorm)], train_predict_denorm, linestyle='--', label='Train Predictions')\n",
        "# plt.plot(adjusted_dates[len(y_train_denorm):], test_predict_denorm, linestyle='--', label='Test Predictions')\n",
        "# plt.title('Comparison of Actual and Predicted Values')\n",
        "# plt.xlabel('Date')\n",
        "# plt.ylabel('Stock Price')\n",
        "# plt.legend()\n",
        "# plt.gcf().autofmt_xdate()\n",
        "# plt.show()\n"
      ],
      "metadata": {
        "id": "WeHxzP4zf08q"
      },
      "execution_count": null,
      "outputs": []
    },
    {
      "cell_type": "code",
      "source": [
        "y_pred = model.predict(X_test)\n",
        "\n",
        "# Denormalize the predictions and actual values\n",
        "y_pred_denorm = scaler.inverse_transform(y_pred)\n",
        "y_test_denorm = scaler.inverse_transform(y_test.reshape(-1, 1))\n",
        "\n",
        "# Generate dates for x-axis\n",
        "test_dates = pd.date_range(start=data.index[training_size + time_step], periods=len(y_test), freq='B')"
      ],
      "metadata": {
        "id": "Y31b-DEbihba",
        "colab": {
          "base_uri": "https://localhost:8080/"
        },
        "outputId": "353463e6-3486-4349-ae8f-b7233fa48828"
      },
      "execution_count": null,
      "outputs": [
        {
          "output_type": "stream",
          "name": "stdout",
          "text": [
            "20/20 [==============================] - 0s 7ms/step\n"
          ]
        }
      ]
    },
    {
      "cell_type": "code",
      "source": [
        "print(y_test_denorm[:5])"
      ],
      "metadata": {
        "colab": {
          "base_uri": "https://localhost:8080/"
        },
        "id": "XyMIq00SFJ2d",
        "outputId": "95f6a1f2-a956-4fb4-cd84-e1809531ca9c"
      },
      "execution_count": null,
      "outputs": [
        {
          "output_type": "stream",
          "name": "stdout",
          "text": [
            "[[6050.]\n",
            " [6150.]\n",
            " [6000.]\n",
            " [6000.]\n",
            " [6025.]]\n"
          ]
        }
      ]
    },
    {
      "cell_type": "code",
      "source": [
        "print(y_pred_denorm[:5])\n",
        "print()"
      ],
      "metadata": {
        "colab": {
          "base_uri": "https://localhost:8080/"
        },
        "id": "AGt0LY21EsbT",
        "outputId": "bed3ded2-f32a-4d8b-bb6a-d6416d7a6f82"
      },
      "execution_count": null,
      "outputs": [
        {
          "output_type": "stream",
          "name": "stdout",
          "text": [
            "[[6129.795 ]\n",
            " [6062.288 ]\n",
            " [6092.0396]\n",
            " [6031.1416]\n",
            " [5996.4595]]\n",
            "\n"
          ]
        }
      ]
    },
    {
      "cell_type": "code",
      "source": [
        "df_results = pd.DataFrame({\n",
        "    'Tahun': test_dates,\n",
        "    'Data_Close_Asli': y_test_denorm.flatten(),\n",
        "    'Data_Close_Prediksi': y_pred_denorm.flatten()\n",
        "})\n",
        "\n",
        "print(df_results.head())"
      ],
      "metadata": {
        "id": "KBz92DojGXcb",
        "colab": {
          "base_uri": "https://localhost:8080/"
        },
        "outputId": "cbb03a50-464f-474a-a368-74ada50235fb"
      },
      "execution_count": null,
      "outputs": [
        {
          "output_type": "stream",
          "name": "stdout",
          "text": [
            "       Tahun  Data_Close_Asli  Data_Close_Prediksi\n",
            "0 2021-10-25           6050.0          6129.794922\n",
            "1 2021-10-26           6150.0          6062.288086\n",
            "2 2021-10-27           6000.0          6092.039551\n",
            "3 2021-10-28           6000.0          6031.141602\n",
            "4 2021-10-29           6025.0          5996.459473\n"
          ]
        }
      ]
    },
    {
      "cell_type": "code",
      "source": [
        "test_dates = pd.date_range(start=data.index[training_size + time_step], periods=len(y_test), freq='B')\n",
        "# Plotting the results\n",
        "plt.figure(figsize=(12, 6))\n",
        "plt.plot(test_dates, y_test_denorm, label='Harga Sebenarnya')\n",
        "plt.plot(test_dates, y_pred_denorm, label='Harga Prediksi', linestyle='--')\n",
        "plt.title('Perbandingan Harga Asli dengan Harga prediksi')\n",
        "plt.xlabel('Tahun')\n",
        "plt.ylabel('Harga Saham')\n",
        "plt.legend()\n",
        "plt.show()"
      ],
      "metadata": {
        "colab": {
          "base_uri": "https://localhost:8080/",
          "height": 584
        },
        "id": "V-jl8YfcM0-L",
        "outputId": "71d0b6c1-0e00-490b-9708-180525d984f8"
      },
      "execution_count": null,
      "outputs": [
        {
          "output_type": "display_data",
          "data": {
            "text/plain": [
              "<Figure size 1200x600 with 1 Axes>"
            ],
            "image/png": "[encoded data removed]"
          },
          "metadata": {}
        }
      ]
    },
    {
      "cell_type": "code",
      "source": [
        "mean_y_test = np.mean(y_test_denorm)\n"
      ],
      "metadata": {
        "id": "bxuh3-l5EJH3"
      },
      "execution_count": null,
      "outputs": []
    },
    {
      "cell_type": "code",
      "source": [
        "mae = np.mean(np.abs(y_test_denorm - y_pred_denorm))\n",
        "print(\"Mean Absolute Error (MAE): {:.2f}\".format(mae))\n",
        "# Persentase MAE\n",
        "mae_percentage = (mae / mean_y_test) * 100\n",
        "print(\"Persentase MAE: {:.2f}%\".format(mae_percentage))\n"
      ],
      "metadata": {
        "colab": {
          "base_uri": "https://localhost:8080/"
        },
        "id": "e7dic6IfEd-H",
        "outputId": "2eb3a33f-b2dd-42b0-fb13-4a8d6e6721c7"
      },
      "execution_count": null,
      "outputs": [
        {
          "output_type": "stream",
          "name": "stdout",
          "text": [
            "Mean Absolute Error (MAE): 87.69\n",
            "Persentase MAE: 1.44%\n"
          ]
        }
      ]
    },
    {
      "cell_type": "code",
      "source": [
        "# Root Mean Squared Error (RMSE)\n",
        "rmse = np.sqrt(np.mean((y_test_denorm - y_pred_denorm) ** 2))\n",
        "print(\"Root Mean Squared Error (RMSE): {:.2f}\".format(rmse))\n",
        "rmse_percentage = (rmse / mean_y_test) * 100\n",
        "print(\"Persentase RMSE: {:.2f}%\".format(rmse_percentage))\n"
      ],
      "metadata": {
        "colab": {
          "base_uri": "https://localhost:8080/"
        },
        "id": "JRkwORMqEKVP",
        "outputId": "b1e061dc-e390-404e-e815-17986e5f6c6f"
      },
      "execution_count": null,
      "outputs": [
        {
          "output_type": "stream",
          "name": "stdout",
          "text": [
            "Root Mean Squared Error (RMSE): 116.87\n",
            "Persentase RMSE: 1.92%\n"
          ]
        }
      ]
    },
    {
      "cell_type": "code",
      "source": [
        "# Mean Absolute Percentage Error (MAPE)\n",
        "mape = np.mean(np.abs((y_test_denorm - y_pred_denorm) / y_test_denorm)) * 100\n",
        "print(\"Mean Absolute Percentage Error (MAPE): {:.2f}%\".format(mape))"
      ],
      "metadata": {
        "colab": {
          "base_uri": "https://localhost:8080/"
        },
        "id": "Ora5lQ3_ERnP",
        "outputId": "92a7ed6d-2ecd-45eb-fe16-9cdc37947dd2"
      },
      "execution_count": null,
      "outputs": [
        {
          "output_type": "stream",
          "name": "stdout",
          "text": [
            "Mean Absolute Percentage Error (MAPE): 1.45%\n"
          ]
        }
      ]
    },
    {
      "cell_type": "code",
      "source": [
        "# Mean Absolute Error\n",
        "\n",
        "\n",
        "# Root Mean Squared Error (RMSE)\n",
        "rmse = np.sqrt(np.mean((y_test_denorm - y_pred_denorm) ** 2))\n",
        "print(\"Root Mean Squared Error (RMSE): {:.2f}\".format(rmse))\n",
        "\n",
        "\n",
        "# Mean Absolute Percentage Error (MAPE)\n",
        "mape = np.mean(np.abs((y_test_denorm - y_pred_denorm) / y_test_denorm)) * 100\n",
        "print(\"Mean Absolute Percentage Error (MAPE): {:.2f} %\".format(mape))\n",
        "\n",
        "\n",
        "# Persentase MAE\n",
        "mae_percentage = (mae / mean_y_test) * 100\n",
        "print(\"Persentase MAE:\", mae_percentage, \"%\")\n",
        "\n",
        "rmse_percentage = (rmse / mean_y_test) * 100\n",
        "print(\"Persenatase RMSE:\", rmse_percentage, \"%\")"
      ],
      "metadata": {
        "id": "VPcAtbAhM1D9",
        "colab": {
          "base_uri": "https://localhost:8080/"
        },
        "outputId": "7b462585-6553-4319-b072-3ac6a3b2df7b"
      },
      "execution_count": null,
      "outputs": [
        {
          "output_type": "stream",
          "name": "stdout",
          "text": [
            "Root Mean Squared Error (RMSE): 116.87\n",
            "Mean Absolute Percentage Error (MAPE): 1.45 %\n",
            "Persentase MAE: 1.4376012468614094 %\n",
            "Persenatase RMSE: 1.9159983129268994 %\n"
          ]
        }
      ]
    },
    {
      "cell_type": "code",
      "source": [],
      "metadata": {
        "id": "W239Yz8U18rp"
      },
      "execution_count": null,
      "outputs": []
    }
  ]
}